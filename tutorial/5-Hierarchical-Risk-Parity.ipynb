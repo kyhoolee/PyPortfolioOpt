{
  "cells": [
    {
      "cell_type": "markdown",
      "id": "consolidated-vault",
      "metadata": {
        "id": "consolidated-vault"
      },
      "source": [
        "# Hierarchical Risk Parity\n",
        "\n",
        "HRP is a modern portfolio optimization method inspired by machine learning.\n",
        "\n",
        "The idea is that by examining the hierarchical structure of the market, we can better diversify. \n",
        "\n",
        "In this cookbook recipe, we will cover:\n",
        "\n",
        "- Downloading data for HRP\n",
        "- Using HRP to find the minimum variance portfolio\n",
        "- Plotting dendrograms\n",
        "\n"
      ]
    },
    {
      "cell_type": "markdown",
      "id": "saving-safety",
      "metadata": {
        "id": "saving-safety"
      },
      "source": [
        "## Downloading data\n",
        "\n",
        "HRP only requires historical returns"
      ]
    },
    {
      "cell_type": "code",
      "execution_count": 1,
      "id": "kvgN-hAEBYHZ",
      "metadata": {
        "colab": {
          "base_uri": "https://localhost:8080/"
        },
        "id": "kvgN-hAEBYHZ",
        "outputId": "2cd60bf1-d484-405c-8d92-a8101f6e6750"
      },
      "outputs": [],
      "source": [
        "# ! pip install pandas numpy matplotlib yfinance PyPortfolioOpt\n",
        "# import os\n",
        "# if not os.path.isdir('data'):\n",
        "#     os.system('git clone https://github.com/robertmartin8/PyPortfolioOpt.git')\n",
        "#     os.chdir('PyPortfolioOpt/cookbook')"
      ]
    },
    {
      "cell_type": "code",
      "execution_count": 2,
      "id": "committed-riverside",
      "metadata": {
        "colab": {
          "base_uri": "https://localhost:8080/",
          "height": 35
        },
        "id": "committed-riverside",
        "outputId": "a3c8fb63-b1ef-4696-c0df-5b16f37700d8"
      },
      "outputs": [
        {
          "data": {
            "text/plain": [
              "'1.5.5'"
            ]
          },
          "execution_count": 2,
          "metadata": {},
          "output_type": "execute_result"
        }
      ],
      "source": [
        "import numpy as np\n",
        "import pandas as pd\n",
        "import matplotlib.pyplot as plt\n",
        "import yfinance as yf\n",
        "import pypfopt\n",
        "\n",
        "pypfopt.__version__"
      ]
    },
    {
      "cell_type": "code",
      "execution_count": 3,
      "id": "accredited-enterprise",
      "metadata": {
        "colab": {
          "base_uri": "https://localhost:8080/",
          "height": 385
        },
        "id": "accredited-enterprise",
        "outputId": "8ffbfbd3-9b0f-4c86-ec5a-0508c068314d"
      },
      "outputs": [
        {
          "name": "stdout",
          "output_type": "stream",
          "text": [
            "[*********************100%%**********************]  15 of 15 completed\n"
          ]
        },
        {
          "data": {
            "text/html": [
              "<div>\n",
              "<style scoped>\n",
              "    .dataframe tbody tr th:only-of-type {\n",
              "        vertical-align: middle;\n",
              "    }\n",
              "\n",
              "    .dataframe tbody tr th {\n",
              "        vertical-align: top;\n",
              "    }\n",
              "\n",
              "    .dataframe thead th {\n",
              "        text-align: right;\n",
              "    }\n",
              "</style>\n",
              "<table border=\"1\" class=\"dataframe\">\n",
              "  <thead>\n",
              "    <tr style=\"text-align: right;\">\n",
              "      <th></th>\n",
              "      <th>AAPL</th>\n",
              "      <th>AMD</th>\n",
              "      <th>BAC</th>\n",
              "      <th>BLK</th>\n",
              "      <th>CVS</th>\n",
              "      <th>DIS</th>\n",
              "      <th>INTU</th>\n",
              "      <th>JD</th>\n",
              "      <th>MA</th>\n",
              "      <th>NVDA</th>\n",
              "      <th>PBI</th>\n",
              "      <th>TGT</th>\n",
              "      <th>TM</th>\n",
              "      <th>UL</th>\n",
              "      <th>WMT</th>\n",
              "    </tr>\n",
              "    <tr>\n",
              "      <th>Date</th>\n",
              "      <th></th>\n",
              "      <th></th>\n",
              "      <th></th>\n",
              "      <th></th>\n",
              "      <th></th>\n",
              "      <th></th>\n",
              "      <th></th>\n",
              "      <th></th>\n",
              "      <th></th>\n",
              "      <th></th>\n",
              "      <th></th>\n",
              "      <th></th>\n",
              "      <th></th>\n",
              "      <th></th>\n",
              "      <th></th>\n",
              "    </tr>\n",
              "  </thead>\n",
              "  <tbody>\n",
              "    <tr>\n",
              "      <th>2023-12-19</th>\n",
              "      <td>196.940002</td>\n",
              "      <td>140.149994</td>\n",
              "      <td>33.509998</td>\n",
              "      <td>801.380005</td>\n",
              "      <td>76.260002</td>\n",
              "      <td>93.930000</td>\n",
              "      <td>621.460022</td>\n",
              "      <td>27.600000</td>\n",
              "      <td>425.470001</td>\n",
              "      <td>496.040009</td>\n",
              "      <td>4.14</td>\n",
              "      <td>139.580002</td>\n",
              "      <td>183.949997</td>\n",
              "      <td>47.930000</td>\n",
              "      <td>155.529999</td>\n",
              "    </tr>\n",
              "    <tr>\n",
              "      <th>2023-12-20</th>\n",
              "      <td>194.830002</td>\n",
              "      <td>135.470001</td>\n",
              "      <td>32.980000</td>\n",
              "      <td>789.229980</td>\n",
              "      <td>77.239998</td>\n",
              "      <td>91.269997</td>\n",
              "      <td>615.710022</td>\n",
              "      <td>26.430000</td>\n",
              "      <td>419.450012</td>\n",
              "      <td>481.109985</td>\n",
              "      <td>3.97</td>\n",
              "      <td>136.899994</td>\n",
              "      <td>179.940002</td>\n",
              "      <td>47.590000</td>\n",
              "      <td>153.710007</td>\n",
              "    </tr>\n",
              "    <tr>\n",
              "      <th>2023-12-21</th>\n",
              "      <td>194.679993</td>\n",
              "      <td>139.910004</td>\n",
              "      <td>33.200001</td>\n",
              "      <td>799.099976</td>\n",
              "      <td>78.620003</td>\n",
              "      <td>92.019997</td>\n",
              "      <td>620.989990</td>\n",
              "      <td>27.980000</td>\n",
              "      <td>423.440002</td>\n",
              "      <td>489.899994</td>\n",
              "      <td>4.09</td>\n",
              "      <td>139.369995</td>\n",
              "      <td>180.860001</td>\n",
              "      <td>47.840000</td>\n",
              "      <td>154.800003</td>\n",
              "    </tr>\n",
              "    <tr>\n",
              "      <th>2023-12-22</th>\n",
              "      <td>193.600006</td>\n",
              "      <td>139.600006</td>\n",
              "      <td>33.430000</td>\n",
              "      <td>802.419983</td>\n",
              "      <td>78.760002</td>\n",
              "      <td>91.019997</td>\n",
              "      <td>624.070007</td>\n",
              "      <td>27.590000</td>\n",
              "      <td>424.100006</td>\n",
              "      <td>488.299988</td>\n",
              "      <td>4.28</td>\n",
              "      <td>140.199997</td>\n",
              "      <td>178.529999</td>\n",
              "      <td>48.099998</td>\n",
              "      <td>156.649994</td>\n",
              "    </tr>\n",
              "    <tr>\n",
              "      <th>2023-12-26</th>\n",
              "      <td>193.050003</td>\n",
              "      <td>143.410004</td>\n",
              "      <td>33.860001</td>\n",
              "      <td>806.609985</td>\n",
              "      <td>79.000000</td>\n",
              "      <td>90.949997</td>\n",
              "      <td>624.849976</td>\n",
              "      <td>27.610001</td>\n",
              "      <td>423.670013</td>\n",
              "      <td>492.790009</td>\n",
              "      <td>4.31</td>\n",
              "      <td>141.029999</td>\n",
              "      <td>179.850006</td>\n",
              "      <td>48.130001</td>\n",
              "      <td>156.410004</td>\n",
              "    </tr>\n",
              "  </tbody>\n",
              "</table>\n",
              "</div>"
            ],
            "text/plain": [
              "                  AAPL         AMD        BAC         BLK        CVS  \\\n",
              "Date                                                                   \n",
              "2023-12-19  196.940002  140.149994  33.509998  801.380005  76.260002   \n",
              "2023-12-20  194.830002  135.470001  32.980000  789.229980  77.239998   \n",
              "2023-12-21  194.679993  139.910004  33.200001  799.099976  78.620003   \n",
              "2023-12-22  193.600006  139.600006  33.430000  802.419983  78.760002   \n",
              "2023-12-26  193.050003  143.410004  33.860001  806.609985  79.000000   \n",
              "\n",
              "                  DIS        INTU         JD          MA        NVDA   PBI  \\\n",
              "Date                                                                         \n",
              "2023-12-19  93.930000  621.460022  27.600000  425.470001  496.040009  4.14   \n",
              "2023-12-20  91.269997  615.710022  26.430000  419.450012  481.109985  3.97   \n",
              "2023-12-21  92.019997  620.989990  27.980000  423.440002  489.899994  4.09   \n",
              "2023-12-22  91.019997  624.070007  27.590000  424.100006  488.299988  4.28   \n",
              "2023-12-26  90.949997  624.849976  27.610001  423.670013  492.790009  4.31   \n",
              "\n",
              "                   TGT          TM         UL         WMT  \n",
              "Date                                                       \n",
              "2023-12-19  139.580002  183.949997  47.930000  155.529999  \n",
              "2023-12-20  136.899994  179.940002  47.590000  153.710007  \n",
              "2023-12-21  139.369995  180.860001  47.840000  154.800003  \n",
              "2023-12-22  140.199997  178.529999  48.099998  156.649994  \n",
              "2023-12-26  141.029999  179.850006  48.130001  156.410004  "
            ]
          },
          "execution_count": 3,
          "metadata": {},
          "output_type": "execute_result"
        }
      ],
      "source": [
        "tickers = [\"BLK\", \"BAC\", \"AAPL\", \"TM\", \"WMT\",\n",
        "           \"JD\", \"INTU\", \"MA\", \"UL\", \"CVS\",\n",
        "           \"DIS\", \"AMD\", \"NVDA\", \"PBI\", \"TGT\"]\n",
        "\n",
        "ohlc = yf.download(tickers, period=\"max\")\n",
        "prices = ohlc[\"Adj Close\"]\n",
        "prices.tail()"
      ]
    },
    {
      "cell_type": "code",
      "execution_count": 4,
      "id": "confident-plant",
      "metadata": {
        "colab": {
          "base_uri": "https://localhost:8080/",
          "height": 281
        },
        "id": "confident-plant",
        "outputId": "3ca52fc5-22ff-4a25-d58d-9f3700b04bb3"
      },
      "outputs": [
        {
          "data": {
            "text/html": [
              "<div>\n",
              "<style scoped>\n",
              "    .dataframe tbody tr th:only-of-type {\n",
              "        vertical-align: middle;\n",
              "    }\n",
              "\n",
              "    .dataframe tbody tr th {\n",
              "        vertical-align: top;\n",
              "    }\n",
              "\n",
              "    .dataframe thead th {\n",
              "        text-align: right;\n",
              "    }\n",
              "</style>\n",
              "<table border=\"1\" class=\"dataframe\">\n",
              "  <thead>\n",
              "    <tr style=\"text-align: right;\">\n",
              "      <th></th>\n",
              "      <th>AAPL</th>\n",
              "      <th>AMD</th>\n",
              "      <th>BAC</th>\n",
              "      <th>BLK</th>\n",
              "      <th>CVS</th>\n",
              "      <th>DIS</th>\n",
              "      <th>INTU</th>\n",
              "      <th>JD</th>\n",
              "      <th>MA</th>\n",
              "      <th>NVDA</th>\n",
              "      <th>PBI</th>\n",
              "      <th>TGT</th>\n",
              "      <th>TM</th>\n",
              "      <th>UL</th>\n",
              "      <th>WMT</th>\n",
              "    </tr>\n",
              "    <tr>\n",
              "      <th>Date</th>\n",
              "      <th></th>\n",
              "      <th></th>\n",
              "      <th></th>\n",
              "      <th></th>\n",
              "      <th></th>\n",
              "      <th></th>\n",
              "      <th></th>\n",
              "      <th></th>\n",
              "      <th></th>\n",
              "      <th></th>\n",
              "      <th></th>\n",
              "      <th></th>\n",
              "      <th></th>\n",
              "      <th></th>\n",
              "      <th></th>\n",
              "    </tr>\n",
              "  </thead>\n",
              "  <tbody>\n",
              "    <tr>\n",
              "      <th>2023-12-19</th>\n",
              "      <td>0.005360</td>\n",
              "      <td>0.008999</td>\n",
              "      <td>0.002393</td>\n",
              "      <td>0.006203</td>\n",
              "      <td>0.018430</td>\n",
              "      <td>0.011523</td>\n",
              "      <td>0.004900</td>\n",
              "      <td>0.036036</td>\n",
              "      <td>0.002450</td>\n",
              "      <td>-0.009445</td>\n",
              "      <td>0.017199</td>\n",
              "      <td>0.013506</td>\n",
              "      <td>0.003656</td>\n",
              "      <td>0.005454</td>\n",
              "      <td>0.003614</td>\n",
              "    </tr>\n",
              "    <tr>\n",
              "      <th>2023-12-20</th>\n",
              "      <td>-0.010714</td>\n",
              "      <td>-0.033393</td>\n",
              "      <td>-0.015816</td>\n",
              "      <td>-0.015161</td>\n",
              "      <td>0.012851</td>\n",
              "      <td>-0.028319</td>\n",
              "      <td>-0.009252</td>\n",
              "      <td>-0.042391</td>\n",
              "      <td>-0.014149</td>\n",
              "      <td>-0.030098</td>\n",
              "      <td>-0.041063</td>\n",
              "      <td>-0.019201</td>\n",
              "      <td>-0.021799</td>\n",
              "      <td>-0.007094</td>\n",
              "      <td>-0.011702</td>\n",
              "    </tr>\n",
              "    <tr>\n",
              "      <th>2023-12-21</th>\n",
              "      <td>-0.000770</td>\n",
              "      <td>0.032775</td>\n",
              "      <td>0.006671</td>\n",
              "      <td>0.012506</td>\n",
              "      <td>0.017866</td>\n",
              "      <td>0.008217</td>\n",
              "      <td>0.008575</td>\n",
              "      <td>0.058645</td>\n",
              "      <td>0.009512</td>\n",
              "      <td>0.018270</td>\n",
              "      <td>0.030227</td>\n",
              "      <td>0.018042</td>\n",
              "      <td>0.005113</td>\n",
              "      <td>0.005253</td>\n",
              "      <td>0.007091</td>\n",
              "    </tr>\n",
              "    <tr>\n",
              "      <th>2023-12-22</th>\n",
              "      <td>-0.005547</td>\n",
              "      <td>-0.002216</td>\n",
              "      <td>0.006928</td>\n",
              "      <td>0.004155</td>\n",
              "      <td>0.001781</td>\n",
              "      <td>-0.010867</td>\n",
              "      <td>0.004960</td>\n",
              "      <td>-0.013939</td>\n",
              "      <td>0.001559</td>\n",
              "      <td>-0.003266</td>\n",
              "      <td>0.046455</td>\n",
              "      <td>0.005955</td>\n",
              "      <td>-0.012883</td>\n",
              "      <td>0.005435</td>\n",
              "      <td>0.011951</td>\n",
              "    </tr>\n",
              "    <tr>\n",
              "      <th>2023-12-26</th>\n",
              "      <td>-0.002841</td>\n",
              "      <td>0.027292</td>\n",
              "      <td>0.012863</td>\n",
              "      <td>0.005222</td>\n",
              "      <td>0.003047</td>\n",
              "      <td>-0.000769</td>\n",
              "      <td>0.001250</td>\n",
              "      <td>0.000725</td>\n",
              "      <td>-0.001014</td>\n",
              "      <td>0.009195</td>\n",
              "      <td>0.007009</td>\n",
              "      <td>0.005920</td>\n",
              "      <td>0.007394</td>\n",
              "      <td>0.000624</td>\n",
              "      <td>-0.001532</td>\n",
              "    </tr>\n",
              "  </tbody>\n",
              "</table>\n",
              "</div>"
            ],
            "text/plain": [
              "                AAPL       AMD       BAC       BLK       CVS       DIS  \\\n",
              "Date                                                                     \n",
              "2023-12-19  0.005360  0.008999  0.002393  0.006203  0.018430  0.011523   \n",
              "2023-12-20 -0.010714 -0.033393 -0.015816 -0.015161  0.012851 -0.028319   \n",
              "2023-12-21 -0.000770  0.032775  0.006671  0.012506  0.017866  0.008217   \n",
              "2023-12-22 -0.005547 -0.002216  0.006928  0.004155  0.001781 -0.010867   \n",
              "2023-12-26 -0.002841  0.027292  0.012863  0.005222  0.003047 -0.000769   \n",
              "\n",
              "                INTU        JD        MA      NVDA       PBI       TGT  \\\n",
              "Date                                                                     \n",
              "2023-12-19  0.004900  0.036036  0.002450 -0.009445  0.017199  0.013506   \n",
              "2023-12-20 -0.009252 -0.042391 -0.014149 -0.030098 -0.041063 -0.019201   \n",
              "2023-12-21  0.008575  0.058645  0.009512  0.018270  0.030227  0.018042   \n",
              "2023-12-22  0.004960 -0.013939  0.001559 -0.003266  0.046455  0.005955   \n",
              "2023-12-26  0.001250  0.000725 -0.001014  0.009195  0.007009  0.005920   \n",
              "\n",
              "                  TM        UL       WMT  \n",
              "Date                                      \n",
              "2023-12-19  0.003656  0.005454  0.003614  \n",
              "2023-12-20 -0.021799 -0.007094 -0.011702  \n",
              "2023-12-21  0.005113  0.005253  0.007091  \n",
              "2023-12-22 -0.012883  0.005435  0.011951  \n",
              "2023-12-26  0.007394  0.000624 -0.001532  "
            ]
          },
          "execution_count": 4,
          "metadata": {},
          "output_type": "execute_result"
        }
      ],
      "source": [
        "from pypfopt import expected_returns\n",
        "\n",
        "rets = expected_returns.returns_from_prices(prices)\n",
        "rets.tail()"
      ]
    },
    {
      "cell_type": "markdown",
      "id": "answering-tamil",
      "metadata": {
        "id": "answering-tamil"
      },
      "source": [
        "## HRP optimization\n",
        "\n",
        "HRP uses a completely different backend, so it is currently not possible to pass constraints or specify an objective function."
      ]
    },
    {
      "cell_type": "code",
      "execution_count": 5,
      "id": "crazy-minority",
      "metadata": {
        "id": "crazy-minority"
      },
      "outputs": [],
      "source": [
        "from pypfopt import HRPOpt"
      ]
    },
    {
      "cell_type": "code",
      "execution_count": 6,
      "id": "determined-license",
      "metadata": {
        "colab": {
          "base_uri": "https://localhost:8080/"
        },
        "id": "determined-license",
        "outputId": "ba776958-535f-475b-b6bf-7c6994d311f8"
      },
      "outputs": [
        {
          "data": {
            "text/plain": [
              "OrderedDict([('AAPL', 0.03517),\n",
              "             ('AMD', 0.01747),\n",
              "             ('BAC', 0.04604),\n",
              "             ('BLK', 0.04976),\n",
              "             ('CVS', 0.09577),\n",
              "             ('DIS', 0.06662),\n",
              "             ('INTU', 0.0325),\n",
              "             ('JD', 0.04508),\n",
              "             ('MA', 0.05175),\n",
              "             ('NVDA', 0.01693),\n",
              "             ('PBI', 0.07791),\n",
              "             ('TGT', 0.08699),\n",
              "             ('TM', 0.10744),\n",
              "             ('UL', 0.15023),\n",
              "             ('WMT', 0.12036)])"
            ]
          },
          "execution_count": 6,
          "metadata": {},
          "output_type": "execute_result"
        }
      ],
      "source": [
        "hrp = HRPOpt(rets)\n",
        "hrp.optimize()\n",
        "weights = hrp.clean_weights()\n",
        "weights"
      ]
    },
    {
      "cell_type": "code",
      "execution_count": 7,
      "id": "existing-memphis",
      "metadata": {
        "colab": {
          "base_uri": "https://localhost:8080/",
          "height": 575
        },
        "id": "existing-memphis",
        "outputId": "721f641a-3871-4bae-84f8-94cc0b75be87"
      },
      "outputs": [
        {
          "data": {
            "image/png": "[encoded data removed]",
            "text/plain": [
              "<Figure size 1000x1000 with 1 Axes>"
            ]
          },
          "metadata": {},
          "output_type": "display_data"
        }
      ],
      "source": [
        "pd.Series(weights).plot.pie(figsize=(10, 10));"
      ]
    },
    {
      "cell_type": "code",
      "execution_count": 8,
      "id": "dramatic-spyware",
      "metadata": {
        "colab": {
          "base_uri": "https://localhost:8080/"
        },
        "id": "dramatic-spyware",
        "outputId": "03958175-ebf7-4eb0-cc3a-57d969056f36"
      },
      "outputs": [
        {
          "name": "stdout",
          "output_type": "stream",
          "text": [
            "Expected annual return: 18.6%\n",
            "Annual volatility: 19.0%\n",
            "Sharpe Ratio: 0.87\n"
          ]
        }
      ],
      "source": [
        "hrp.portfolio_performance(verbose=True);"
      ]
    },
    {
      "cell_type": "markdown",
      "id": "occupational-costume",
      "metadata": {
        "id": "occupational-costume"
      },
      "source": [
        "## Plotting\n",
        "\n",
        "It is very simple to plot a dendrogram (tree diagram) based on the hierarchical structure of asset returns"
      ]
    },
    {
      "cell_type": "code",
      "execution_count": 9,
      "id": "upset-meaning",
      "metadata": {
        "colab": {
          "base_uri": "https://localhost:8080/",
          "height": 297
        },
        "id": "upset-meaning",
        "outputId": "65f2985a-e74f-405c-a01a-d7877a0e5326"
      },
      "outputs": [
        {
          "data": {
            "image/png": "[encoded data removed]",
            "text/plain": [
              "<Figure size 640x480 with 1 Axes>"
            ]
          },
          "metadata": {},
          "output_type": "display_data"
        }
      ],
      "source": [
        "from pypfopt import plotting\n",
        "\n",
        "plotting.plot_dendrogram(hrp); "
      ]
    },
    {
      "cell_type": "markdown",
      "id": "brave-shock",
      "metadata": {
        "id": "brave-shock"
      },
      "source": [
        "If you look at this dendogram closely, you can see that most of the clusters make a lot of sense. For example, AMD and NVDA (both semiconductor manufacturers) are grouped."
      ]
    },
    {
      "cell_type": "code",
      "execution_count": null,
      "id": "macro-found",
      "metadata": {
        "id": "macro-found"
      },
      "outputs": [],
      "source": []
    }
  ],
  "metadata": {
    "colab": {
      "collapsed_sections": [],
      "name": "5-Hierarchical-Risk-Parity.ipynb",
      "provenance": []
    },
    "kernelspec": {
      "display_name": "Python 3",
      "name": "python3"
    },
    "language_info": {
      "codemirror_mode": {
        "name": "ipython",
        "version": 3
      },
      "file_extension": ".py",
      "mimetype": "text/x-python",
      "name": "python",
      "nbconvert_exporter": "python",
      "pygments_lexer": "ipython3",
      "version": "3.8.16"
    }
  },
  "nbformat": 4,
  "nbformat_minor": 5
}
