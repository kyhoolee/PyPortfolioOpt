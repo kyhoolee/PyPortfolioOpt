{
  "cells": [
    {
      "cell_type": "markdown",
      "metadata": {
        "id": "pQhw2JJu_YO0"
      },
      "source": [
        "# Advanced MVO - custom objectives\n",
        "\n",
        "PyPortfolioOpt has implemented some of the most common objective functions (e.g `min_volatility`, `max_sharpe`, `max_quadratic_utility`, `efficient_risk`, `efficient_return`). However, sometimes yoy may have an idea for a different objective function.\n",
        "\n",
        "In this cookbook recipe, we cover:\n",
        "\n",
        "- Mininimising transaction costs\n",
        "- Custom convex objectives\n",
        "- Custom nonconvex objectives\n",
        "\n",
        "## Acquiring data\n",
        "\n",
        "As discussed in the previous notebook, assets are an exogenous input (i.e you must come up with a list of tickers). We will use `yfinance` to download data for thesee tickers\n",
        "\n"
      ]
    },
    {
      "cell_type": "code",
      "execution_count": 3,
      "metadata": {
        "colab": {
          "base_uri": "https://localhost:8080/"
        },
        "id": "kWJJAvG4_iEz",
        "outputId": "26b7d743-eb20-4fb5-a99d-f4a5098ee8ad"
      },
      "outputs": [
        {
          "name": "stdout",
          "output_type": "stream",
          "text": [
            "Requirement already satisfied: pandas in /home/skymeta/anaconda3/envs/finlab/lib/python3.8/site-packages (1.5.0)\n",
            "Requirement already satisfied: numpy in /home/skymeta/anaconda3/envs/finlab/lib/python3.8/site-packages (1.24.4)\n",
            "Requirement already satisfied: matplotlib in /home/skymeta/anaconda3/envs/finlab/lib/python3.8/site-packages (3.4.3)\n",
            "Requirement already satisfied: yfinance in /home/skymeta/anaconda3/envs/finlab/lib/python3.8/site-packages (0.2.33)\n",
            "Requirement already satisfied: PyPortfolioOpt in /home/skymeta/anaconda3/envs/finlab/lib/python3.8/site-packages (1.5.5)\n",
            "Requirement already satisfied: python-dateutil>=2.8.1 in /home/skymeta/anaconda3/envs/finlab/lib/python3.8/site-packages (from pandas) (2.8.2)\n",
            "Requirement already satisfied: pytz>=2020.1 in /home/skymeta/anaconda3/envs/finlab/lib/python3.8/site-packages (from pandas) (2022.7)\n",
            "Requirement already satisfied: cycler>=0.10 in /home/skymeta/anaconda3/envs/finlab/lib/python3.8/site-packages (from matplotlib) (0.11.0)\n",
            "Requirement already satisfied: kiwisolver>=1.0.1 in /home/skymeta/anaconda3/envs/finlab/lib/python3.8/site-packages (from matplotlib) (1.4.4)\n",
            "Requirement already satisfied: pillow>=6.2.0 in /home/skymeta/anaconda3/envs/finlab/lib/python3.8/site-packages (from matplotlib) (9.5.0)\n",
            "Requirement already satisfied: pyparsing>=2.2.1 in /home/skymeta/anaconda3/envs/finlab/lib/python3.8/site-packages (from matplotlib) (3.1.0)\n",
            "Requirement already satisfied: requests>=2.31 in /home/skymeta/anaconda3/envs/finlab/lib/python3.8/site-packages (from yfinance) (2.31.0)\n",
            "Requirement already satisfied: multitasking>=0.0.7 in /home/skymeta/anaconda3/envs/finlab/lib/python3.8/site-packages (from yfinance) (0.0.11)\n",
            "Requirement already satisfied: lxml>=4.9.1 in /home/skymeta/anaconda3/envs/finlab/lib/python3.8/site-packages (from yfinance) (4.9.3)\n",
            "Requirement already satisfied: appdirs>=1.4.4 in /home/skymeta/anaconda3/envs/finlab/lib/python3.8/site-packages (from yfinance) (1.4.4)\n",
            "Requirement already satisfied: frozendict>=2.3.4 in /home/skymeta/anaconda3/envs/finlab/lib/python3.8/site-packages (from yfinance) (2.3.10)\n",
            "Requirement already satisfied: peewee>=3.16.2 in /home/skymeta/anaconda3/envs/finlab/lib/python3.8/site-packages (from yfinance) (3.17.0)\n",
            "Requirement already satisfied: beautifulsoup4>=4.11.1 in /home/skymeta/anaconda3/envs/finlab/lib/python3.8/site-packages (from yfinance) (4.12.2)\n",
            "Requirement already satisfied: html5lib>=1.1 in /home/skymeta/anaconda3/envs/finlab/lib/python3.8/site-packages (from yfinance) (1.1)\n",
            "Requirement already satisfied: cvxpy<2.0.0,>=1.1.19 in /home/skymeta/anaconda3/envs/finlab/lib/python3.8/site-packages (from PyPortfolioOpt) (1.4.1)\n",
            "Requirement already satisfied: scipy<2.0,>=1.3 in /home/skymeta/anaconda3/envs/finlab/lib/python3.8/site-packages (from PyPortfolioOpt) (1.10.1)\n",
            "Requirement already satisfied: soupsieve>1.2 in /home/skymeta/anaconda3/envs/finlab/lib/python3.8/site-packages (from beautifulsoup4>=4.11.1->yfinance) (2.4)\n",
            "Requirement already satisfied: osqp>=0.6.2 in /home/skymeta/anaconda3/envs/finlab/lib/python3.8/site-packages (from cvxpy<2.0.0,>=1.1.19->PyPortfolioOpt) (0.6.3)\n",
            "Requirement already satisfied: ecos>=2 in /home/skymeta/anaconda3/envs/finlab/lib/python3.8/site-packages (from cvxpy<2.0.0,>=1.1.19->PyPortfolioOpt) (2.0.12)\n",
            "Requirement already satisfied: clarabel>=0.5.0 in /home/skymeta/anaconda3/envs/finlab/lib/python3.8/site-packages (from cvxpy<2.0.0,>=1.1.19->PyPortfolioOpt) (0.6.0)\n",
            "Requirement already satisfied: scs>=3.0 in /home/skymeta/anaconda3/envs/finlab/lib/python3.8/site-packages (from cvxpy<2.0.0,>=1.1.19->PyPortfolioOpt) (3.2.4.post1)\n",
            "Requirement already satisfied: pybind11 in /home/skymeta/anaconda3/envs/finlab/lib/python3.8/site-packages (from cvxpy<2.0.0,>=1.1.19->PyPortfolioOpt) (2.11.1)\n",
            "Requirement already satisfied: six>=1.9 in /home/skymeta/anaconda3/envs/finlab/lib/python3.8/site-packages (from html5lib>=1.1->yfinance) (1.16.0)\n",
            "Requirement already satisfied: webencodings in /home/skymeta/anaconda3/envs/finlab/lib/python3.8/site-packages (from html5lib>=1.1->yfinance) (0.5.1)\n",
            "Requirement already satisfied: charset-normalizer<4,>=2 in /home/skymeta/anaconda3/envs/finlab/lib/python3.8/site-packages (from requests>=2.31->yfinance) (2.0.4)\n",
            "Requirement already satisfied: idna<4,>=2.5 in /home/skymeta/anaconda3/envs/finlab/lib/python3.8/site-packages (from requests>=2.31->yfinance) (3.4)\n",
            "Requirement already satisfied: urllib3<3,>=1.21.1 in /home/skymeta/anaconda3/envs/finlab/lib/python3.8/site-packages (from requests>=2.31->yfinance) (1.26.16)\n",
            "Requirement already satisfied: certifi>=2017.4.17 in /home/skymeta/anaconda3/envs/finlab/lib/python3.8/site-packages (from requests>=2.31->yfinance) (2023.11.17)\n",
            "Requirement already satisfied: qdldl in /home/skymeta/anaconda3/envs/finlab/lib/python3.8/site-packages (from osqp>=0.6.2->cvxpy<2.0.0,>=1.1.19->PyPortfolioOpt) (0.1.7.post0)\n"
          ]
        }
      ],
      "source": [
        "! pip install pandas numpy matplotlib yfinance PyPortfolioOpt\n",
        "# import os\n",
        "# if not os.path.isdir('data'):\n",
        "#     os.system('git clone https://github.com/robertmartin8/PyPortfolioOpt.git')\n",
        "#     os.chdir('PyPortfolioOpt/cookbook')"
      ]
    },
    {
      "cell_type": "code",
      "execution_count": 4,
      "metadata": {
        "id": "yd0GLGye_YO1"
      },
      "outputs": [],
      "source": [
        "import yfinance as yf\n",
        "import pandas as pd\n",
        "import numpy as np\n",
        "import matplotlib.pyplot as plt"
      ]
    },
    {
      "cell_type": "code",
      "execution_count": 5,
      "metadata": {
        "id": "HRko0Vbr_YO2"
      },
      "outputs": [],
      "source": [
        "tickers = [\"BLK\", \"BAC\", \"AAPL\", \"TM\", \"WMT\",\n",
        "           \"JD\", \"INTU\", \"MA\", \"UL\", \"CVS\",\n",
        "           \"DIS\", \"AMD\", \"NVDA\", \"PBI\", \"TGT\"]"
      ]
    },
    {
      "cell_type": "code",
      "execution_count": 6,
      "metadata": {
        "colab": {
          "base_uri": "https://localhost:8080/"
        },
        "id": "b8QidoAw_YO2",
        "outputId": "cc6b4958-fa84-48d8-9a8a-3dd63d59d085"
      },
      "outputs": [
        {
          "name": "stdout",
          "output_type": "stream",
          "text": [
            "[*********************100%%**********************]  15 of 15 completed\n"
          ]
        }
      ],
      "source": [
        "ohlc = yf.download(tickers, period=\"max\")"
      ]
    },
    {
      "cell_type": "code",
      "execution_count": 7,
      "metadata": {
        "colab": {
          "base_uri": "https://localhost:8080/",
          "height": 368
        },
        "id": "41-UTlPR_YO3",
        "outputId": "45e79da8-c066-4962-d5e2-57baafa8d68c"
      },
      "outputs": [
        {
          "data": {
            "text/html": [
              "<div>\n",
              "<style scoped>\n",
              "    .dataframe tbody tr th:only-of-type {\n",
              "        vertical-align: middle;\n",
              "    }\n",
              "\n",
              "    .dataframe tbody tr th {\n",
              "        vertical-align: top;\n",
              "    }\n",
              "\n",
              "    .dataframe thead th {\n",
              "        text-align: right;\n",
              "    }\n",
              "</style>\n",
              "<table border=\"1\" class=\"dataframe\">\n",
              "  <thead>\n",
              "    <tr style=\"text-align: right;\">\n",
              "      <th></th>\n",
              "      <th>AAPL</th>\n",
              "      <th>AMD</th>\n",
              "      <th>BAC</th>\n",
              "      <th>BLK</th>\n",
              "      <th>CVS</th>\n",
              "      <th>DIS</th>\n",
              "      <th>INTU</th>\n",
              "      <th>JD</th>\n",
              "      <th>MA</th>\n",
              "      <th>NVDA</th>\n",
              "      <th>PBI</th>\n",
              "      <th>TGT</th>\n",
              "      <th>TM</th>\n",
              "      <th>UL</th>\n",
              "      <th>WMT</th>\n",
              "    </tr>\n",
              "    <tr>\n",
              "      <th>Date</th>\n",
              "      <th></th>\n",
              "      <th></th>\n",
              "      <th></th>\n",
              "      <th></th>\n",
              "      <th></th>\n",
              "      <th></th>\n",
              "      <th></th>\n",
              "      <th></th>\n",
              "      <th></th>\n",
              "      <th></th>\n",
              "      <th></th>\n",
              "      <th></th>\n",
              "      <th></th>\n",
              "      <th></th>\n",
              "      <th></th>\n",
              "    </tr>\n",
              "  </thead>\n",
              "  <tbody>\n",
              "    <tr>\n",
              "      <th>2023-12-19</th>\n",
              "      <td>196.940002</td>\n",
              "      <td>140.149994</td>\n",
              "      <td>33.509998</td>\n",
              "      <td>801.380005</td>\n",
              "      <td>76.260002</td>\n",
              "      <td>93.930000</td>\n",
              "      <td>621.460022</td>\n",
              "      <td>27.600000</td>\n",
              "      <td>425.470001</td>\n",
              "      <td>496.040009</td>\n",
              "      <td>4.14</td>\n",
              "      <td>139.580002</td>\n",
              "      <td>183.949997</td>\n",
              "      <td>47.930000</td>\n",
              "      <td>155.529999</td>\n",
              "    </tr>\n",
              "    <tr>\n",
              "      <th>2023-12-20</th>\n",
              "      <td>194.830002</td>\n",
              "      <td>135.470001</td>\n",
              "      <td>32.980000</td>\n",
              "      <td>789.229980</td>\n",
              "      <td>77.239998</td>\n",
              "      <td>91.269997</td>\n",
              "      <td>615.710022</td>\n",
              "      <td>26.430000</td>\n",
              "      <td>419.450012</td>\n",
              "      <td>481.109985</td>\n",
              "      <td>3.97</td>\n",
              "      <td>136.899994</td>\n",
              "      <td>179.940002</td>\n",
              "      <td>47.590000</td>\n",
              "      <td>153.710007</td>\n",
              "    </tr>\n",
              "    <tr>\n",
              "      <th>2023-12-21</th>\n",
              "      <td>194.679993</td>\n",
              "      <td>139.910004</td>\n",
              "      <td>33.200001</td>\n",
              "      <td>799.099976</td>\n",
              "      <td>78.620003</td>\n",
              "      <td>92.019997</td>\n",
              "      <td>620.989990</td>\n",
              "      <td>27.980000</td>\n",
              "      <td>423.440002</td>\n",
              "      <td>489.899994</td>\n",
              "      <td>4.09</td>\n",
              "      <td>139.369995</td>\n",
              "      <td>180.860001</td>\n",
              "      <td>47.840000</td>\n",
              "      <td>154.800003</td>\n",
              "    </tr>\n",
              "    <tr>\n",
              "      <th>2023-12-22</th>\n",
              "      <td>193.600006</td>\n",
              "      <td>139.600006</td>\n",
              "      <td>33.430000</td>\n",
              "      <td>802.419983</td>\n",
              "      <td>78.760002</td>\n",
              "      <td>91.019997</td>\n",
              "      <td>624.070007</td>\n",
              "      <td>27.590000</td>\n",
              "      <td>424.100006</td>\n",
              "      <td>488.299988</td>\n",
              "      <td>4.28</td>\n",
              "      <td>140.199997</td>\n",
              "      <td>178.529999</td>\n",
              "      <td>48.099998</td>\n",
              "      <td>156.649994</td>\n",
              "    </tr>\n",
              "    <tr>\n",
              "      <th>2023-12-26</th>\n",
              "      <td>193.050003</td>\n",
              "      <td>143.410004</td>\n",
              "      <td>33.860001</td>\n",
              "      <td>806.609985</td>\n",
              "      <td>79.000000</td>\n",
              "      <td>90.949997</td>\n",
              "      <td>624.849976</td>\n",
              "      <td>27.610001</td>\n",
              "      <td>423.670013</td>\n",
              "      <td>492.790009</td>\n",
              "      <td>4.31</td>\n",
              "      <td>141.029999</td>\n",
              "      <td>179.850006</td>\n",
              "      <td>48.130001</td>\n",
              "      <td>156.410004</td>\n",
              "    </tr>\n",
              "  </tbody>\n",
              "</table>\n",
              "</div>"
            ],
            "text/plain": [
              "                  AAPL         AMD        BAC         BLK        CVS  \\\n",
              "Date                                                                   \n",
              "2023-12-19  196.940002  140.149994  33.509998  801.380005  76.260002   \n",
              "2023-12-20  194.830002  135.470001  32.980000  789.229980  77.239998   \n",
              "2023-12-21  194.679993  139.910004  33.200001  799.099976  78.620003   \n",
              "2023-12-22  193.600006  139.600006  33.430000  802.419983  78.760002   \n",
              "2023-12-26  193.050003  143.410004  33.860001  806.609985  79.000000   \n",
              "\n",
              "                  DIS        INTU         JD          MA        NVDA   PBI  \\\n",
              "Date                                                                         \n",
              "2023-12-19  93.930000  621.460022  27.600000  425.470001  496.040009  4.14   \n",
              "2023-12-20  91.269997  615.710022  26.430000  419.450012  481.109985  3.97   \n",
              "2023-12-21  92.019997  620.989990  27.980000  423.440002  489.899994  4.09   \n",
              "2023-12-22  91.019997  624.070007  27.590000  424.100006  488.299988  4.28   \n",
              "2023-12-26  90.949997  624.849976  27.610001  423.670013  492.790009  4.31   \n",
              "\n",
              "                   TGT          TM         UL         WMT  \n",
              "Date                                                       \n",
              "2023-12-19  139.580002  183.949997  47.930000  155.529999  \n",
              "2023-12-20  136.899994  179.940002  47.590000  153.710007  \n",
              "2023-12-21  139.369995  180.860001  47.840000  154.800003  \n",
              "2023-12-22  140.199997  178.529999  48.099998  156.649994  \n",
              "2023-12-26  141.029999  179.850006  48.130001  156.410004  "
            ]
          },
          "execution_count": 7,
          "metadata": {},
          "output_type": "execute_result"
        }
      ],
      "source": [
        "prices = ohlc[\"Adj Close\"]\n",
        "prices.tail()"
      ]
    },
    {
      "cell_type": "markdown",
      "metadata": {
        "id": "8fZeMKRg_YO4"
      },
      "source": [
        "## Expected returns and risk models\n",
        "\n",
        "In this notebook, we will use James-Stein shrinkage and semicovariance (which only penalises downside risk)."
      ]
    },
    {
      "cell_type": "code",
      "execution_count": 8,
      "metadata": {
        "colab": {
          "base_uri": "https://localhost:8080/",
          "height": 35
        },
        "id": "5_0F7H7k_YO4",
        "outputId": "973ab4df-85ba-45bc-a907-2be2ec28793c"
      },
      "outputs": [
        {
          "data": {
            "text/plain": [
              "'1.5.5'"
            ]
          },
          "execution_count": 8,
          "metadata": {},
          "output_type": "execute_result"
        }
      ],
      "source": [
        "import pypfopt\n",
        "pypfopt.__version__"
      ]
    },
    {
      "cell_type": "code",
      "execution_count": 9,
      "metadata": {
        "id": "U6m_oOBG_YO4"
      },
      "outputs": [],
      "source": [
        "from pypfopt import risk_models, expected_returns\n",
        "from pypfopt import plotting\n",
        "\n",
        "mu = expected_returns.capm_return(prices)\n",
        "S = risk_models.semicovariance(prices)"
      ]
    },
    {
      "cell_type": "code",
      "execution_count": 10,
      "metadata": {
        "colab": {
          "base_uri": "https://localhost:8080/",
          "height": 320
        },
        "id": "V-3Q-NM__YO5",
        "outputId": "57e931b0-70d9-4cb7-c0e8-741fb86db943"
      },
      "outputs": [
        {
          "data": {
            "image/png": "[encoded data removed]",
            "text/plain": [
              "<Figure size 1000x500 with 1 Axes>"
            ]
          },
          "metadata": {},
          "output_type": "display_data"
        }
      ],
      "source": [
        "mu.plot.barh(figsize=(10,5));"
      ]
    },
    {
      "cell_type": "code",
      "execution_count": 11,
      "metadata": {
        "colab": {
          "base_uri": "https://localhost:8080/",
          "height": 297
        },
        "id": "pgEDbNJ7_YO5",
        "outputId": "ac4edb81-60a7-48dc-ea68-02926985e564"
      },
      "outputs": [
        {
          "data": {
            "image/png": "[encoded data removed]",
            "text/plain": [
              "<Figure size 640x480 with 2 Axes>"
            ]
          },
          "metadata": {},
          "output_type": "display_data"
        }
      ],
      "source": [
        "plotting.plot_covariance(S, plot_correlation=True);"
      ]
    },
    {
      "cell_type": "markdown",
      "metadata": {
        "id": "8V6jyzsw_YO5"
      },
      "source": [
        "## Min volatility with a transaction cost objective\n",
        "\n",
        "Let's say that you already have a portfolio, and want to now optimize it. It could be quite expensive to completely reallocate, so you may want to take into account transaction costs. PyPortfolioOpt provides a simple objective to account for this.\n",
        "\n",
        "Note: this objective will not play nicely with `max_sharpe`."
      ]
    },
    {
      "cell_type": "code",
      "execution_count": 12,
      "metadata": {
        "id": "70ib0FwA_YO5"
      },
      "outputs": [],
      "source": [
        "# Pretend that you started with a default-weight allocation\n",
        "initial_weights = np.array([1/len(tickers)] * len(tickers))"
      ]
    },
    {
      "cell_type": "code",
      "execution_count": 13,
      "metadata": {
        "colab": {
          "base_uri": "https://localhost:8080/"
        },
        "id": "h4DCRaLe_YO6",
        "outputId": "bab1cd04-1fb4-4d87-d784-ec3006753ba3"
      },
      "outputs": [
        {
          "data": {
            "text/plain": [
              "OrderedDict([('AAPL', 0.04255),\n",
              "             ('AMD', 0.0),\n",
              "             ('BAC', 0.03232),\n",
              "             ('BLK', 0.06667),\n",
              "             ('CVS', 0.06667),\n",
              "             ('DIS', 0.06667),\n",
              "             ('INTU', 0.06667),\n",
              "             ('JD', 0.2015),\n",
              "             ('MA', 0.06667),\n",
              "             ('NVDA', 0.05696),\n",
              "             ('PBI', 0.06667),\n",
              "             ('TGT', 0.06667),\n",
              "             ('TM', 0.06667),\n",
              "             ('UL', 0.06667),\n",
              "             ('WMT', 0.06667)])"
            ]
          },
          "execution_count": 13,
          "metadata": {},
          "output_type": "execute_result"
        }
      ],
      "source": [
        "from pypfopt import EfficientFrontier, objective_functions\n",
        "\n",
        "ef = EfficientFrontier(mu, S)\n",
        "\n",
        "# 1% broker commission\n",
        "ef.add_objective(objective_functions.transaction_cost, w_prev=initial_weights, k=0.01)\n",
        "ef.min_volatility()\n",
        "weights = ef.clean_weights()\n",
        "weights"
      ]
    },
    {
      "cell_type": "markdown",
      "metadata": {
        "id": "iTTvy6xH_YO6"
      },
      "source": [
        "Notice that many of the weights are 0.06667, i.e your original equal weight. In fact, the only change has been an allocation of AMD's weight to JD. If we lower the cost `k`, the allocation will change more:"
      ]
    },
    {
      "cell_type": "code",
      "execution_count": 14,
      "metadata": {
        "colab": {
          "base_uri": "https://localhost:8080/"
        },
        "id": "pTepg1-Q_YO6",
        "outputId": "335af198-0d41-482c-a923-617240ee5ffd"
      },
      "outputs": [
        {
          "data": {
            "text/plain": [
              "OrderedDict([('AAPL', 0.0),\n",
              "             ('AMD', 0.0),\n",
              "             ('BAC', 0.0),\n",
              "             ('BLK', 0.06667),\n",
              "             ('CVS', 0.05768),\n",
              "             ('DIS', 0.0),\n",
              "             ('INTU', 0.00775),\n",
              "             ('JD', 0.32476),\n",
              "             ('MA', 0.25534),\n",
              "             ('NVDA', 0.0),\n",
              "             ('PBI', 0.0),\n",
              "             ('TGT', 0.0),\n",
              "             ('TM', 0.06667),\n",
              "             ('UL', 0.1421),\n",
              "             ('WMT', 0.07904)])"
            ]
          },
          "execution_count": 14,
          "metadata": {},
          "output_type": "execute_result"
        }
      ],
      "source": [
        "ef = EfficientFrontier(mu, S)\n",
        "ef.add_objective(objective_functions.transaction_cost, w_prev=initial_weights, k=0.001)\n",
        "ef.min_volatility()\n",
        "weights = ef.clean_weights()\n",
        "weights"
      ]
    },
    {
      "cell_type": "markdown",
      "metadata": {
        "id": "YM-gPp1S_YO7"
      },
      "source": [
        "The optimizer seems to really like JD. The reason for this is that it is highly anticorrelated to other assets (notice the dark column in the covariance plot). Hence, historically, it adds a lot of diversification. But it is dangerous to place too much emphasis on what happened in the past, so we may want to limit the asset weights. \n",
        "\n",
        "In addition, we notice that 4 stocks have now been allocated zero weight, which may be undesirable. Both of these problems can be fixed by adding an [L2 regularisation objective](https://pyportfolioopt.readthedocs.io/en/latest/EfficientFrontier.html#more-on-l2-regularisation). "
      ]
    },
    {
      "cell_type": "code",
      "execution_count": 15,
      "metadata": {
        "colab": {
          "base_uri": "https://localhost:8080/"
        },
        "id": "Mh22zJrI_YO7",
        "outputId": "f6b4707d-c5cb-4c81-d676-7f1cc9c412e5"
      },
      "outputs": [
        {
          "data": {
            "text/plain": [
              "OrderedDict([('AAPL', 0.06217),\n",
              "             ('AMD', 0.05359),\n",
              "             ('BAC', 0.06248),\n",
              "             ('BLK', 0.07038),\n",
              "             ('CVS', 0.06719),\n",
              "             ('DIS', 0.06518),\n",
              "             ('INTU', 0.06667),\n",
              "             ('JD', 0.07618),\n",
              "             ('MA', 0.07334),\n",
              "             ('NVDA', 0.06329),\n",
              "             ('PBI', 0.06448),\n",
              "             ('TGT', 0.06591),\n",
              "             ('TM', 0.06938),\n",
              "             ('UL', 0.07123),\n",
              "             ('WMT', 0.06852)])"
            ]
          },
          "execution_count": 15,
          "metadata": {},
          "output_type": "execute_result"
        }
      ],
      "source": [
        "ef = EfficientFrontier(mu, S)\n",
        "ef.add_objective(objective_functions.transaction_cost, w_prev=initial_weights, k=0.001)\n",
        "ef.add_objective(objective_functions.L2_reg)\n",
        "ef.min_volatility()\n",
        "weights = ef.clean_weights()\n",
        "weights"
      ]
    },
    {
      "cell_type": "markdown",
      "metadata": {
        "id": "zQrFckqY_YO7"
      },
      "source": [
        "This has had too much of an evening-out effect. After all, if the resulting allocation is going to be so close to equal weights, we may as well stick with our initial allocation. We can reduce the strength of the L2 regularisation by reducing `gamma`:"
      ]
    },
    {
      "cell_type": "code",
      "execution_count": 16,
      "metadata": {
        "colab": {
          "base_uri": "https://localhost:8080/"
        },
        "id": "VdeeHz8J_YO7",
        "outputId": "735a86d3-078e-4a28-cb2e-19da01de4542"
      },
      "outputs": [
        {
          "data": {
            "text/plain": [
              "OrderedDict([('AAPL', 0.02214),\n",
              "             ('AMD', 0.0),\n",
              "             ('BAC', 0.01111),\n",
              "             ('BLK', 0.09828),\n",
              "             ('CVS', 0.06667),\n",
              "             ('DIS', 0.04335),\n",
              "             ('INTU', 0.05866),\n",
              "             ('JD', 0.17166),\n",
              "             ('MA', 0.13995),\n",
              "             ('NVDA', 0.02369),\n",
              "             ('PBI', 0.03378),\n",
              "             ('TGT', 0.05002),\n",
              "             ('TM', 0.08838),\n",
              "             ('UL', 0.11172),\n",
              "             ('WMT', 0.08059)])"
            ]
          },
          "execution_count": 16,
          "metadata": {},
          "output_type": "execute_result"
        }
      ],
      "source": [
        "ef = EfficientFrontier(mu, S)\n",
        "ef.add_objective(objective_functions.transaction_cost, w_prev=initial_weights, k=0.001)\n",
        "ef.add_objective(objective_functions.L2_reg, gamma=0.05)  # default is 1\n",
        "ef.min_volatility()\n",
        "weights = ef.clean_weights()\n",
        "weights"
      ]
    },
    {
      "cell_type": "code",
      "execution_count": 17,
      "metadata": {
        "colab": {
          "base_uri": "https://localhost:8080/"
        },
        "id": "EFN7ul8-_YO8",
        "outputId": "575da3e2-c1ed-4821-dbec-8475d1f0c3b7"
      },
      "outputs": [
        {
          "name": "stdout",
          "output_type": "stream",
          "text": [
            "Expected annual return: 17.5%\n",
            "Annual volatility: 10.0%\n",
            "Sharpe Ratio: 1.55\n"
          ]
        }
      ],
      "source": [
        "ef.portfolio_performance(verbose=True);"
      ]
    },
    {
      "cell_type": "markdown",
      "metadata": {
        "id": "ra5fBWi8_YO8"
      },
      "source": [
        "This portfolio is now reasonably balanced, but also puts significantly more weight on JD. "
      ]
    },
    {
      "cell_type": "code",
      "execution_count": 18,
      "metadata": {
        "colab": {
          "base_uri": "https://localhost:8080/",
          "height": 575
        },
        "id": "3Klc-L_8_YO8",
        "outputId": "9bc2e6e6-9411-4be4-a851-918a648b5306"
      },
      "outputs": [
        {
          "name": "stderr",
          "output_type": "stream",
          "text": [
            "/home/skymeta/anaconda3/envs/finlab/lib/python3.8/site-packages/pandas/plotting/_matplotlib/core.py:1836: MatplotlibDeprecationWarning: normalize=None does not normalize if the sum is less than 1 but this behavior is deprecated since 3.3 until two minor releases later. After the deprecation period the default value will be normalize=True. To prevent normalization pass normalize=False \n",
            "  results = ax.pie(y, labels=blabels, **kwds)\n"
          ]
        },
        {
          "data": {
            "image/png": "[encoded data removed]",
            "text/plain": [
              "<Figure size 1000x1000 with 1 Axes>"
            ]
          },
          "metadata": {},
          "output_type": "display_data"
        }
      ],
      "source": [
        "pd.Series(weights).plot.pie(figsize=(10,10));"
      ]
    },
    {
      "cell_type": "markdown",
      "metadata": {
        "id": "A4s-3rWa_YO9"
      },
      "source": [
        "## Custom convex objectives\n",
        "\n",
        "PyPortfolioOpt comes with the following built-in objective functions, as of v1.2.1:\n",
        "\n",
        "- Portfolio variance (i.e square of volatility)\n",
        "- Portfolio return\n",
        "- Sharpe ratio\n",
        "- L2 regularisation (minimising this reduces nonzero weights)\n",
        "- Quadratic utility\n",
        "- Transaction cost model (a simple one)\n",
        "\n",
        "However, you may want have a different objective. If this new objective is **convex**, you can optimize a portfolio with the full benefit of PyPortfolioOpt's modular syntax, for example adding other constraints and objectives.\n",
        "\n",
        "To demonstrate this, we will minimise the **logarithmic-barrier** function suggested in the paper 60 Years of Portfolio Optimization, by Kolm et al (2014):\n",
        "\n",
        "$$f(w, S, k) = w^T S w - k \\sum_{i=1}^N \\ln w$$\n",
        "\n",
        "We must first convert this mathematical objective into the language of cvxpy. Cvxpy is a powerful modelling language for convex optimization problems. It is clean and easy to use, the only caveat is that objectives must be expressed with `cvxpy` functions, a list of which can be found [here](https://www.cvxpy.org/tutorial/functions/index.html)."
      ]
    },
    {
      "cell_type": "code",
      "execution_count": 19,
      "metadata": {
        "id": "5WjglE6d_YO9"
      },
      "outputs": [],
      "source": [
        "import cvxpy as cp\n",
        "\n",
        "# Note: functions are minimised. If you want to maximise an objective, stick a minus sign in it.\n",
        "def logarithmic_barrier_objective(w, cov_matrix, k=0.1):\n",
        "    log_sum = cp.sum(cp.log(w))\n",
        "    var = cp.quad_form(w, cov_matrix)\n",
        "    return var - k * log_sum"
      ]
    },
    {
      "cell_type": "markdown",
      "metadata": {
        "id": "UxmNQahn_YO9"
      },
      "source": [
        "Once we have written the objective function, we can just use the `ef.convex_objective()` to minimise the objective."
      ]
    },
    {
      "cell_type": "code",
      "execution_count": 20,
      "metadata": {
        "colab": {
          "base_uri": "https://localhost:8080/"
        },
        "id": "SMsaFWHB_YO9",
        "outputId": "5a25c217-5d8b-4185-89de-a7379a5ef5fe"
      },
      "outputs": [
        {
          "name": "stderr",
          "output_type": "stream",
          "text": [
            "/home/skymeta/anaconda3/envs/finlab/lib/python3.8/site-packages/cvxpy/reductions/solvers/solving_chain.py:336: FutureWarning: \n",
            "    Your problem is being solved with the ECOS solver by default. Starting in \n",
            "    CVXPY 1.5.0, Clarabel will be used as the default solver instead. To continue \n",
            "    using ECOS, specify the ECOS solver explicitly using the ``solver=cp.ECOS`` \n",
            "    argument to the ``problem.solve`` method.\n",
            "    \n",
            "  warnings.warn(ECOS_DEPRECATION_MSG, FutureWarning)\n"
          ]
        },
        {
          "data": {
            "text/plain": [
              "OrderedDict([('AAPL', 0.03905),\n",
              "             ('AMD', 0.02572),\n",
              "             ('BAC', 0.0382),\n",
              "             ('BLK', 0.07781),\n",
              "             ('CVS', 0.0589),\n",
              "             ('DIS', 0.04637),\n",
              "             ('INTU', 0.05138),\n",
              "             ('JD', 0.18193),\n",
              "             ('MA', 0.11864),\n",
              "             ('NVDA', 0.03991),\n",
              "             ('PBI', 0.04336),\n",
              "             ('TGT', 0.04884),\n",
              "             ('TM', 0.07203),\n",
              "             ('UL', 0.0897),\n",
              "             ('WMT', 0.06815)])"
            ]
          },
          "execution_count": 20,
          "metadata": {},
          "output_type": "execute_result"
        }
      ],
      "source": [
        "ef = EfficientFrontier(mu, S, weight_bounds=(0.01, 0.2))\n",
        "ef.convex_objective(logarithmic_barrier_objective, cov_matrix=S, k=0.001)\n",
        "weights = ef.clean_weights()\n",
        "weights"
      ]
    },
    {
      "cell_type": "code",
      "execution_count": 21,
      "metadata": {
        "colab": {
          "base_uri": "https://localhost:8080/"
        },
        "id": "TGkjjU3z_YO-",
        "outputId": "d8e09c26-503d-4ac6-e57b-f81af6456544"
      },
      "outputs": [
        {
          "name": "stdout",
          "output_type": "stream",
          "text": [
            "Expected annual return: 18.3%\n",
            "Annual volatility: 10.6%\n",
            "Sharpe Ratio: 1.53\n"
          ]
        }
      ],
      "source": [
        "ef.portfolio_performance(verbose=True);"
      ]
    },
    {
      "cell_type": "markdown",
      "metadata": {
        "id": "mOAd1ncH_YO-"
      },
      "source": [
        "This is compatible with all the constraints discussed in the previous recipe. Let's say that we want to limit JD's weight to 15%."
      ]
    },
    {
      "cell_type": "code",
      "execution_count": 22,
      "metadata": {
        "colab": {
          "base_uri": "https://localhost:8080/"
        },
        "id": "J3rM2vkz_YO-",
        "outputId": "b00c2c60-47c5-419d-97d1-52957b32a56c"
      },
      "outputs": [
        {
          "data": {
            "text/plain": [
              "OrderedDict([('AAPL', 0.03965),\n",
              "             ('AMD', 0.02589),\n",
              "             ('BAC', 0.03859),\n",
              "             ('BLK', 0.08149),\n",
              "             ('CVS', 0.06057),\n",
              "             ('DIS', 0.04731),\n",
              "             ('INTU', 0.0528),\n",
              "             ('JD', 0.15),\n",
              "             ('MA', 0.12903),\n",
              "             ('NVDA', 0.04078),\n",
              "             ('PBI', 0.04437),\n",
              "             ('TGT', 0.04988),\n",
              "             ('TM', 0.07489),\n",
              "             ('UL', 0.0943),\n",
              "             ('WMT', 0.07046)])"
            ]
          },
          "execution_count": 22,
          "metadata": {},
          "output_type": "execute_result"
        }
      ],
      "source": [
        "ef = EfficientFrontier(mu, S, weight_bounds=(0.01, 0.2))\n",
        "jd_index = ef.tickers.index(\"JD\")  # get the index of JD\n",
        "ef.add_constraint(lambda w: w[jd_index] <= 0.15)\n",
        "ef.convex_objective(logarithmic_barrier_objective, cov_matrix=S, k=0.001)\n",
        "weights = ef.clean_weights()\n",
        "weights"
      ]
    },
    {
      "cell_type": "markdown",
      "metadata": {
        "id": "v-ObCWVv_YO-"
      },
      "source": [
        "## Custom nonconvex objectives\n",
        "\n",
        "In some cases, you may be trying to optimize for nonconvex objectives. Optimization in general is a very hard problem, so please be aware that you may have mixed results in that case. Convex problems, on the other hand, are well understood and can be solved with nice theoretical guarantees.\n",
        "\n",
        "PyPortfolioOpt does offer some functionality for nonconvex optimization, but it is not really encouraged. In particular, nonconvex optimization is not compatible with PyPortfolioOpt's modular constraints API.\n",
        "\n",
        "As an example, we will use the Deviation Risk Parity objective from Kolm et al (2014). Because we are not using a convex solver, we don't have to define it using `cvxpy` functions."
      ]
    },
    {
      "cell_type": "code",
      "execution_count": 23,
      "metadata": {
        "id": "WYIshUU__YO-"
      },
      "outputs": [],
      "source": [
        "def deviation_risk_parity(w, cov_matrix):\n",
        "    diff = w * np.dot(cov_matrix, w) - (w * np.dot(cov_matrix, w)).reshape(-1, 1)\n",
        "    return (diff ** 2).sum().sum()"
      ]
    },
    {
      "cell_type": "code",
      "execution_count": 24,
      "metadata": {
        "colab": {
          "base_uri": "https://localhost:8080/"
        },
        "id": "_fgoI8gj_YO-",
        "outputId": "a3f3c341-503e-4b7a-ef96-8bdf462c6d8a"
      },
      "outputs": [
        {
          "data": {
            "text/plain": [
              "OrderedDict([('AAPL', 0.04172),\n",
              "             ('AMD', 0.03307),\n",
              "             ('BAC', 0.04137),\n",
              "             ('BLK', 0.08783),\n",
              "             ('CVS', 0.07091),\n",
              "             ('DIS', 0.05471),\n",
              "             ('INTU', 0.06372),\n",
              "             ('JD', 0.10111),\n",
              "             ('MA', 0.09716),\n",
              "             ('NVDA', 0.04736),\n",
              "             ('PBI', 0.05107),\n",
              "             ('TGT', 0.05878),\n",
              "             ('TM', 0.08301),\n",
              "             ('UL', 0.09058),\n",
              "             ('WMT', 0.0776)])"
            ]
          },
          "execution_count": 24,
          "metadata": {},
          "output_type": "execute_result"
        }
      ],
      "source": [
        "ef = EfficientFrontier(mu, S, weight_bounds=(0.01, 0.12))\n",
        "ef.nonconvex_objective(deviation_risk_parity, ef.cov_matrix)\n",
        "weights = ef.clean_weights()\n",
        "weights"
      ]
    },
    {
      "cell_type": "markdown",
      "metadata": {
        "id": "1JJVTSOb_YO_"
      },
      "source": [
        "However, let's say we now want to enforce that JD has a weight of 10%. In the convex case, this would be as simple as:\n",
        "\n",
        "```python\n",
        "ef.add_objective(lambda w: w[jd_index] == 0.10)\n",
        "```\n",
        "\n",
        "But unfortunately, scipy does not allow for such intuitive syntax. You will need to rearrange your constraints to make them either `=0` or `<= 0`. \n",
        "\n",
        "```python\n",
        "constraints = [\n",
        "    # First constraint\n",
        "     {\"type\": \"eq\",  # equality constraint,\n",
        "      \"fun\": lambda w: w[1] - 0.2},  # the equality functions are assumed to = 0 \n",
        "      \n",
        "    # Second constraint\n",
        "    {\"type\": \"ineq\",  # inequality constraint\n",
        "     \"fun\": lambda w: w[0] - 0.5}   # inequality functions <= 0\n",
        "]\n",
        "```\n",
        "\n",
        "For more information, you can consult the [scipy docs](https://docs.scipy.org/doc/scipy/reference/generated/scipy.optimize.minimize.html), but they aren't very helpful."
      ]
    },
    {
      "cell_type": "code",
      "execution_count": 25,
      "metadata": {
        "colab": {
          "base_uri": "https://localhost:8080/"
        },
        "id": "84sElIfw_YO_",
        "outputId": "f4e9713d-2215-4093-9900-17a2035c5906"
      },
      "outputs": [
        {
          "data": {
            "text/plain": [
              "OrderedDict([('AAPL', 0.0566),\n",
              "             ('AMD', 0.03034),\n",
              "             ('BAC', 0.05857),\n",
              "             ('BLK', 0.0733),\n",
              "             ('CVS', 0.06956),\n",
              "             ('DIS', 0.06423),\n",
              "             ('INTU', 0.0669),\n",
              "             ('JD', 0.1),\n",
              "             ('MA', 0.07502),\n",
              "             ('NVDA', 0.05965),\n",
              "             ('PBI', 0.06283),\n",
              "             ('TGT', 0.06573),\n",
              "             ('TM', 0.07218),\n",
              "             ('UL', 0.07391),\n",
              "             ('WMT', 0.07121)])"
            ]
          },
          "execution_count": 25,
          "metadata": {},
          "output_type": "execute_result"
        }
      ],
      "source": [
        "ef = EfficientFrontier(mu, S, weight_bounds=(0.01, 0.12))\n",
        "\n",
        "ef.nonconvex_objective(\n",
        "    deviation_risk_parity,\n",
        "    objective_args=S,\n",
        "    weights_sum_to_one=True,\n",
        "    constraints=[\n",
        "        {\"type\": \"eq\", \"fun\": lambda w: w[jd_index] - 0.10},  \n",
        "    ],\n",
        ")\n",
        "\n",
        "weights = ef.clean_weights()\n",
        "weights"
      ]
    },
    {
      "cell_type": "markdown",
      "metadata": {
        "id": "0SoIPcj2_YO_"
      },
      "source": [
        "## More examples of nonconvex objectives\n",
        "\n",
        "The scipy format is not intuitive and is hard to explain, so here are a bunch of examples (adapted from the tests). Some of these are actually convex, so you should use `convex_objective` instead. "
      ]
    },
    {
      "cell_type": "code",
      "execution_count": 26,
      "metadata": {
        "colab": {
          "base_uri": "https://localhost:8080/"
        },
        "id": "vfzCiKQT_YO_",
        "outputId": "a6413d3f-22d7-4406-9904-c480be20bd53"
      },
      "outputs": [
        {
          "data": {
            "text/plain": [
              "OrderedDict([('AAPL', 0.04649),\n",
              "             ('AMD', 0.0333),\n",
              "             ('BAC', 0.04621),\n",
              "             ('BLK', 0.07821),\n",
              "             ('CVS', 0.06329),\n",
              "             ('DIS', 0.05337),\n",
              "             ('INTU', 0.05773),\n",
              "             ('JD', 0.13643),\n",
              "             ('MA', 0.10244),\n",
              "             ('NVDA', 0.04801),\n",
              "             ('PBI', 0.05094),\n",
              "             ('TGT', 0.05547),\n",
              "             ('TM', 0.07348),\n",
              "             ('UL', 0.0848),\n",
              "             ('WMT', 0.06984)])"
            ]
          },
          "execution_count": 26,
          "metadata": {},
          "output_type": "execute_result"
        }
      ],
      "source": [
        "# Another example of deviation risk parity\n",
        "def deviation_risk_parity(w, cov_matrix):\n",
        "    n = cov_matrix.shape[0]\n",
        "    rp = (w * (cov_matrix @ w)) / cp.quad_form(w, cov_matrix)\n",
        "    return cp.sum_squares(rp - 1 / n).value\n",
        "\n",
        "ef = EfficientFrontier(mu, S)\n",
        "ef.nonconvex_objective(deviation_risk_parity, ef.cov_matrix)\n",
        "weights = ef.clean_weights()\n",
        "weights"
      ]
    },
    {
      "cell_type": "code",
      "execution_count": 27,
      "metadata": {
        "colab": {
          "base_uri": "https://localhost:8080/"
        },
        "id": "P2jqcyK7_YO_",
        "outputId": "59979140-7fd0-41cc-fb52-8b12586b2066"
      },
      "outputs": [
        {
          "data": {
            "text/plain": [
              "OrderedDict([('AAPL', 0.1),\n",
              "             ('AMD', 0.03391),\n",
              "             ('BAC', 0.04841),\n",
              "             ('BLK', 0.07499),\n",
              "             ('CVS', 0.06208),\n",
              "             ('DIS', 0.05401),\n",
              "             ('INTU', 0.05638),\n",
              "             ('JD', 0.11218),\n",
              "             ('MA', 0.09061),\n",
              "             ('NVDA', 0.04921),\n",
              "             ('PBI', 0.05276),\n",
              "             ('TGT', 0.05529),\n",
              "             ('TM', 0.06833),\n",
              "             ('UL', 0.07661),\n",
              "             ('WMT', 0.06522)])"
            ]
          },
          "execution_count": 27,
          "metadata": {},
          "output_type": "execute_result"
        }
      ],
      "source": [
        "# Deviation risk parity with weight bound on the first asset\n",
        "ef = EfficientFrontier(mu, S)\n",
        "ef.nonconvex_objective(deviation_risk_parity, \n",
        "                       ef.cov_matrix, \n",
        "                       constraints=[{\"type\":\"eq\", \"fun\":lambda w: w[0] - 0.1}])\n",
        "weights = ef.clean_weights()\n",
        "weights"
      ]
    },
    {
      "cell_type": "code",
      "execution_count": 28,
      "metadata": {
        "colab": {
          "base_uri": "https://localhost:8080/"
        },
        "id": "voar0fB2_YPA",
        "outputId": "2721f2ad-7b9f-4a8a-967a-48921b88e853"
      },
      "outputs": [
        {
          "data": {
            "text/plain": [
              "OrderedDict([('AAPL', 0.0926),\n",
              "             ('AMD', 0.16118),\n",
              "             ('BAC', 0.03579),\n",
              "             ('BLK', -0.06195),\n",
              "             ('CVS', -0.17885),\n",
              "             ('DIS', 0.20033),\n",
              "             ('INTU', 0.10412),\n",
              "             ('JD', 0.3169),\n",
              "             ('MA', 0.42396),\n",
              "             ('NVDA', 0.40955),\n",
              "             ('PBI', -0.03337),\n",
              "             ('TGT', 0.0063),\n",
              "             ('TM', -0.47756),\n",
              "             ('UL', -0.83041),\n",
              "             ('WMT', -0.16859)])"
            ]
          },
          "execution_count": 28,
          "metadata": {},
          "output_type": "execute_result"
        }
      ],
      "source": [
        "# Market-neutral efficient risk.\n",
        "# Please use ef.efficient_risk() for anything serious.\n",
        "target_risk = 0.19\n",
        "ef = EfficientFrontier(mu, S, weight_bounds=(None, None))\n",
        "\n",
        "# Weights sum to zero\n",
        "weight_constr = {\"type\": \"eq\", \"fun\": lambda w: np.sum(w)}\n",
        "\n",
        "# Portfolio vol less than target vol\n",
        "risk_constr = {\n",
        "    \"type\": \"eq\",\n",
        "    \"fun\": lambda w: target_risk ** 2 - np.dot(w.T, np.dot(ef.cov_matrix, w)),\n",
        "}\n",
        "constraints = [weight_constr, risk_constr]\n",
        "\n",
        "ef.nonconvex_objective(\n",
        "    lambda w, mu: -w.T.dot(mu),  # min negative return i.e max return\n",
        "    objective_args=(ef.expected_returns),\n",
        "    weights_sum_to_one=False,\n",
        "    constraints=constraints,\n",
        ")\n",
        "weights = ef.clean_weights()\n",
        "weights"
      ]
    },
    {
      "cell_type": "code",
      "execution_count": 29,
      "metadata": {
        "colab": {
          "base_uri": "https://localhost:8080/"
        },
        "id": "2kgcF-V9_YPH",
        "outputId": "862dc21d-2005-438b-eb0d-3ebe2d7e0222"
      },
      "outputs": [
        {
          "data": {
            "text/plain": [
              "OrderedDict([('AAPL', 0.0),\n",
              "             ('AMD', 0.05727),\n",
              "             ('BAC', 0.0),\n",
              "             ('BLK', 0.0),\n",
              "             ('CVS', 0.0),\n",
              "             ('DIS', 0.0),\n",
              "             ('INTU', 0.0),\n",
              "             ('JD', 0.0),\n",
              "             ('MA', 0.0),\n",
              "             ('NVDA', 0.94273),\n",
              "             ('PBI', 0.0),\n",
              "             ('TGT', 0.0),\n",
              "             ('TM', 0.0),\n",
              "             ('UL', 0.0),\n",
              "             ('WMT', 0.0)])"
            ]
          },
          "execution_count": 29,
          "metadata": {},
          "output_type": "execute_result"
        }
      ],
      "source": [
        "# Utility objective - you could actually use ef.max_quadratic_utility\n",
        "ef = EfficientFrontier(mu, S)\n",
        "\n",
        "def utility_obj(weights, mu, cov_matrix, k=1):\n",
        "    return -weights.dot(mu) + k * np.dot(weights.T, np.dot(cov_matrix, weights))\n",
        "\n",
        "ef.nonconvex_objective(\n",
        "    utility_obj,\n",
        "    objective_args=(ef.expected_returns, ef.cov_matrix, 1)\n",
        "    # default is for weights to sum to 1\n",
        ")\n",
        "\n",
        "weights = ef.clean_weights()\n",
        "weights"
      ]
    },
    {
      "cell_type": "code",
      "execution_count": 30,
      "metadata": {
        "colab": {
          "base_uri": "https://localhost:8080/"
        },
        "id": "LnNkM5DJ_YPH",
        "outputId": "874299e2-37a8-4783-9f8e-7608ff293837"
      },
      "outputs": [
        {
          "data": {
            "text/plain": [
              "1.0"
            ]
          },
          "execution_count": 30,
          "metadata": {},
          "output_type": "execute_result"
        }
      ],
      "source": [
        "ef.weights.sum()"
      ]
    },
    {
      "cell_type": "code",
      "execution_count": 31,
      "metadata": {
        "colab": {
          "base_uri": "https://localhost:8080/"
        },
        "id": "FSFhcUz7_YPH",
        "outputId": "0a086117-7335-4558-aaee-c7c70c295f90"
      },
      "outputs": [
        {
          "data": {
            "text/plain": [
              "OrderedDict([('AAPL', 0.06667),\n",
              "             ('AMD', 0.06667),\n",
              "             ('BAC', 0.06667),\n",
              "             ('BLK', 0.06667),\n",
              "             ('CVS', 0.06667),\n",
              "             ('DIS', 0.06667),\n",
              "             ('INTU', 0.06667),\n",
              "             ('JD', 0.06667),\n",
              "             ('MA', 0.06667),\n",
              "             ('NVDA', 0.06667),\n",
              "             ('PBI', 0.06667),\n",
              "             ('TGT', 0.06667),\n",
              "             ('TM', 0.06667),\n",
              "             ('UL', 0.06667),\n",
              "             ('WMT', 0.06667)])"
            ]
          },
          "execution_count": 31,
          "metadata": {},
          "output_type": "execute_result"
        }
      ],
      "source": [
        "# Kelly objective with weight bounds on zeroth asset\n",
        "def kelly_objective(w, e_returns, cov_matrix, k=3):\n",
        "    variance = np.dot(w.T, np.dot(cov_matrix, w))\n",
        "    objective = variance * 0.5 * k - np.dot(w, e_returns)\n",
        "    return objective\n",
        "\n",
        "lower_bounds, upper_bounds = 0.01, 0.3\n",
        "ef = EfficientFrontier(mu, S)\n",
        "ef.nonconvex_objective(\n",
        "    kelly_objective,\n",
        "    objective_args=(ef.expected_returns, ef.cov_matrix, 1000),\n",
        "    constraints=[\n",
        "        {\"type\": \"eq\", \"fun\": lambda w: np.sum(w) - 1},\n",
        "        {\"type\": \"ineq\", \"fun\": lambda w: w[0] - lower_bounds},\n",
        "        {\"type\": \"ineq\", \"fun\": lambda w: upper_bounds - w[0]},\n",
        "    ],\n",
        ")\n",
        "\n",
        "weights = ef.clean_weights()\n",
        "weights"
      ]
    },
    {
      "cell_type": "code",
      "execution_count": 33,
      "metadata": {
        "id": "IP6os0tS_YPI"
      },
      "outputs": [],
      "source": []
    }
  ],
  "metadata": {
    "colab": {
      "collapsed_sections": [],
      "name": "3-Advanced-Mean-Variance-Optimisation.ipynb",
      "provenance": []
    },
    "kernelspec": {
      "display_name": "Python 3",
      "name": "python3"
    },
    "language_info": {
      "codemirror_mode": {
        "name": "ipython",
        "version": 3
      },
      "file_extension": ".py",
      "mimetype": "text/x-python",
      "name": "python",
      "nbconvert_exporter": "python",
      "pygments_lexer": "ipython3",
      "version": "3.8.16"
    }
  },
  "nbformat": 4,
  "nbformat_minor": 0
}
