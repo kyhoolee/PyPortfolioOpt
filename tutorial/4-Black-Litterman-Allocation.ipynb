{
  "cells": [
    {
      "cell_type": "markdown",
      "metadata": {
        "id": "WzHr8McwAbNd"
      },
      "source": [
        "# Black-Litterman allocation\n",
        "\n",
        "The Black-Litterman method is a very powerful way of converting your views on asset returns, along with your uncertainty in these views, into a portfolio.\n",
        "\n",
        "For a description of the theory, please read the [documentation page](https://pyportfolioopt.readthedocs.io/en/latest/BlackLitterman.html) and the links therein.\n",
        "\n",
        "In this recipe, we will cover:\n",
        "\n",
        "- Downloading data for the Black-Litterman method\n",
        "- Constructing the prior return vector based on market equilibrium\n",
        "- Two ways of constructing the uncertainty matrix\n",
        "- Combining Black-Litterman with mean-variance optimization\n",
        "\n",
        "## Downloading data\n",
        "\n",
        "In addition to price data, constructing a market prior requires market-caps.\n"
      ]
    },
    {
      "cell_type": "code",
      "execution_count": 1,
      "metadata": {
        "colab": {
          "base_uri": "https://localhost:8080/"
        },
        "id": "sXdbiHc0AnfS",
        "outputId": "5ced30c2-5248-4827-a15d-955380574b51"
      },
      "outputs": [
        {
          "name": "stdout",
          "output_type": "stream",
          "text": [
            "Requirement already satisfied: pandas in /home/skymeta/anaconda3/envs/finlab/lib/python3.8/site-packages (1.5.0)\n",
            "Requirement already satisfied: numpy in /home/skymeta/anaconda3/envs/finlab/lib/python3.8/site-packages (1.24.4)\n",
            "Requirement already satisfied: matplotlib in /home/skymeta/anaconda3/envs/finlab/lib/python3.8/site-packages (3.4.3)\n",
            "Requirement already satisfied: yfinance in /home/skymeta/anaconda3/envs/finlab/lib/python3.8/site-packages (0.2.33)\n",
            "Requirement already satisfied: PyPortfolioOpt in /home/skymeta/anaconda3/envs/finlab/lib/python3.8/site-packages (1.5.5)\n",
            "Requirement already satisfied: python-dateutil>=2.8.1 in /home/skymeta/anaconda3/envs/finlab/lib/python3.8/site-packages (from pandas) (2.8.2)\n",
            "Requirement already satisfied: pytz>=2020.1 in /home/skymeta/anaconda3/envs/finlab/lib/python3.8/site-packages (from pandas) (2022.7)\n",
            "Requirement already satisfied: cycler>=0.10 in /home/skymeta/anaconda3/envs/finlab/lib/python3.8/site-packages (from matplotlib) (0.11.0)\n",
            "Requirement already satisfied: kiwisolver>=1.0.1 in /home/skymeta/anaconda3/envs/finlab/lib/python3.8/site-packages (from matplotlib) (1.4.4)\n",
            "Requirement already satisfied: pillow>=6.2.0 in /home/skymeta/anaconda3/envs/finlab/lib/python3.8/site-packages (from matplotlib) (9.5.0)\n",
            "Requirement already satisfied: pyparsing>=2.2.1 in /home/skymeta/anaconda3/envs/finlab/lib/python3.8/site-packages (from matplotlib) (3.1.0)\n",
            "Requirement already satisfied: requests>=2.31 in /home/skymeta/anaconda3/envs/finlab/lib/python3.8/site-packages (from yfinance) (2.31.0)\n",
            "Requirement already satisfied: multitasking>=0.0.7 in /home/skymeta/anaconda3/envs/finlab/lib/python3.8/site-packages (from yfinance) (0.0.11)\n",
            "Requirement already satisfied: lxml>=4.9.1 in /home/skymeta/anaconda3/envs/finlab/lib/python3.8/site-packages (from yfinance) (4.9.3)\n",
            "Requirement already satisfied: appdirs>=1.4.4 in /home/skymeta/anaconda3/envs/finlab/lib/python3.8/site-packages (from yfinance) (1.4.4)\n",
            "Requirement already satisfied: frozendict>=2.3.4 in /home/skymeta/anaconda3/envs/finlab/lib/python3.8/site-packages (from yfinance) (2.3.10)\n",
            "Requirement already satisfied: peewee>=3.16.2 in /home/skymeta/anaconda3/envs/finlab/lib/python3.8/site-packages (from yfinance) (3.17.0)\n",
            "Requirement already satisfied: beautifulsoup4>=4.11.1 in /home/skymeta/anaconda3/envs/finlab/lib/python3.8/site-packages (from yfinance) (4.12.2)\n",
            "Requirement already satisfied: html5lib>=1.1 in /home/skymeta/anaconda3/envs/finlab/lib/python3.8/site-packages (from yfinance) (1.1)\n",
            "Requirement already satisfied: cvxpy<2.0.0,>=1.1.19 in /home/skymeta/anaconda3/envs/finlab/lib/python3.8/site-packages (from PyPortfolioOpt) (1.4.1)\n",
            "Requirement already satisfied: scipy<2.0,>=1.3 in /home/skymeta/anaconda3/envs/finlab/lib/python3.8/site-packages (from PyPortfolioOpt) (1.10.1)\n",
            "Requirement already satisfied: soupsieve>1.2 in /home/skymeta/anaconda3/envs/finlab/lib/python3.8/site-packages (from beautifulsoup4>=4.11.1->yfinance) (2.4)\n",
            "Requirement already satisfied: osqp>=0.6.2 in /home/skymeta/anaconda3/envs/finlab/lib/python3.8/site-packages (from cvxpy<2.0.0,>=1.1.19->PyPortfolioOpt) (0.6.3)\n",
            "Requirement already satisfied: ecos>=2 in /home/skymeta/anaconda3/envs/finlab/lib/python3.8/site-packages (from cvxpy<2.0.0,>=1.1.19->PyPortfolioOpt) (2.0.12)\n",
            "Requirement already satisfied: clarabel>=0.5.0 in /home/skymeta/anaconda3/envs/finlab/lib/python3.8/site-packages (from cvxpy<2.0.0,>=1.1.19->PyPortfolioOpt) (0.6.0)\n",
            "Requirement already satisfied: scs>=3.0 in /home/skymeta/anaconda3/envs/finlab/lib/python3.8/site-packages (from cvxpy<2.0.0,>=1.1.19->PyPortfolioOpt) (3.2.4.post1)\n",
            "Requirement already satisfied: pybind11 in /home/skymeta/anaconda3/envs/finlab/lib/python3.8/site-packages (from cvxpy<2.0.0,>=1.1.19->PyPortfolioOpt) (2.11.1)\n",
            "Requirement already satisfied: six>=1.9 in /home/skymeta/anaconda3/envs/finlab/lib/python3.8/site-packages (from html5lib>=1.1->yfinance) (1.16.0)\n",
            "Requirement already satisfied: webencodings in /home/skymeta/anaconda3/envs/finlab/lib/python3.8/site-packages (from html5lib>=1.1->yfinance) (0.5.1)\n",
            "Requirement already satisfied: charset-normalizer<4,>=2 in /home/skymeta/anaconda3/envs/finlab/lib/python3.8/site-packages (from requests>=2.31->yfinance) (2.0.4)\n",
            "Requirement already satisfied: idna<4,>=2.5 in /home/skymeta/anaconda3/envs/finlab/lib/python3.8/site-packages (from requests>=2.31->yfinance) (3.4)\n",
            "Requirement already satisfied: urllib3<3,>=1.21.1 in /home/skymeta/anaconda3/envs/finlab/lib/python3.8/site-packages (from requests>=2.31->yfinance) (1.26.16)\n",
            "Requirement already satisfied: certifi>=2017.4.17 in /home/skymeta/anaconda3/envs/finlab/lib/python3.8/site-packages (from requests>=2.31->yfinance) (2023.11.17)\n",
            "Requirement already satisfied: qdldl in /home/skymeta/anaconda3/envs/finlab/lib/python3.8/site-packages (from osqp>=0.6.2->cvxpy<2.0.0,>=1.1.19->PyPortfolioOpt) (0.1.7.post0)\n"
          ]
        }
      ],
      "source": [
        "! pip install pandas numpy matplotlib yfinance PyPortfolioOpt\n",
        "# import os\n",
        "# if not os.path.isdir('data'):\n",
        "#     os.system('git clone https://github.com/robertmartin8/PyPortfolioOpt.git')\n",
        "#     os.chdir('PyPortfolioOpt/cookbook')"
      ]
    },
    {
      "cell_type": "code",
      "execution_count": 2,
      "metadata": {
        "id": "bs5cBlLfAbNf"
      },
      "outputs": [],
      "source": [
        "import numpy as np\n",
        "import pandas as pd\n",
        "import matplotlib.pyplot as plt\n",
        "import yfinance as yf"
      ]
    },
    {
      "cell_type": "code",
      "execution_count": 3,
      "metadata": {
        "id": "_2kfAeqOAbNg"
      },
      "outputs": [],
      "source": [
        "tickers = [\"MSFT\", \"AMZN\", \"NAT\", \"BAC\", \"DPZ\", \"DIS\", \"KO\", \"MCD\", \"COST\", \"SBUX\"]"
      ]
    },
    {
      "cell_type": "code",
      "execution_count": 4,
      "metadata": {
        "colab": {
          "base_uri": "https://localhost:8080/",
          "height": 255
        },
        "id": "ghoX_hFkAbNg",
        "outputId": "6104b7ab-5a41-47c3-9d2b-5787517a4b99"
      },
      "outputs": [
        {
          "name": "stdout",
          "output_type": "stream",
          "text": [
            "[*********************100%%**********************]  10 of 10 completed\n"
          ]
        },
        {
          "data": {
            "text/html": [
              "<div>\n",
              "<style scoped>\n",
              "    .dataframe tbody tr th:only-of-type {\n",
              "        vertical-align: middle;\n",
              "    }\n",
              "\n",
              "    .dataframe tbody tr th {\n",
              "        vertical-align: top;\n",
              "    }\n",
              "\n",
              "    .dataframe thead th {\n",
              "        text-align: right;\n",
              "    }\n",
              "</style>\n",
              "<table border=\"1\" class=\"dataframe\">\n",
              "  <thead>\n",
              "    <tr style=\"text-align: right;\">\n",
              "      <th></th>\n",
              "      <th>AMZN</th>\n",
              "      <th>BAC</th>\n",
              "      <th>COST</th>\n",
              "      <th>DIS</th>\n",
              "      <th>DPZ</th>\n",
              "      <th>KO</th>\n",
              "      <th>MCD</th>\n",
              "      <th>MSFT</th>\n",
              "      <th>NAT</th>\n",
              "      <th>SBUX</th>\n",
              "    </tr>\n",
              "    <tr>\n",
              "      <th>Date</th>\n",
              "      <th></th>\n",
              "      <th></th>\n",
              "      <th></th>\n",
              "      <th></th>\n",
              "      <th></th>\n",
              "      <th></th>\n",
              "      <th></th>\n",
              "      <th></th>\n",
              "      <th></th>\n",
              "      <th></th>\n",
              "    </tr>\n",
              "  </thead>\n",
              "  <tbody>\n",
              "    <tr>\n",
              "      <th>2023-12-19</th>\n",
              "      <td>153.789993</td>\n",
              "      <td>33.509998</td>\n",
              "      <td>677.739990</td>\n",
              "      <td>93.930000</td>\n",
              "      <td>406.549988</td>\n",
              "      <td>58.830002</td>\n",
              "      <td>290.730011</td>\n",
              "      <td>373.260010</td>\n",
              "      <td>4.30</td>\n",
              "      <td>97.720001</td>\n",
              "    </tr>\n",
              "    <tr>\n",
              "      <th>2023-12-20</th>\n",
              "      <td>152.119995</td>\n",
              "      <td>32.980000</td>\n",
              "      <td>661.000000</td>\n",
              "      <td>91.269997</td>\n",
              "      <td>403.250000</td>\n",
              "      <td>57.610001</td>\n",
              "      <td>288.989990</td>\n",
              "      <td>370.619995</td>\n",
              "      <td>4.31</td>\n",
              "      <td>94.709999</td>\n",
              "    </tr>\n",
              "    <tr>\n",
              "      <th>2023-12-21</th>\n",
              "      <td>153.839996</td>\n",
              "      <td>33.200001</td>\n",
              "      <td>665.159973</td>\n",
              "      <td>92.019997</td>\n",
              "      <td>408.799988</td>\n",
              "      <td>57.990002</td>\n",
              "      <td>291.390015</td>\n",
              "      <td>373.540009</td>\n",
              "      <td>4.36</td>\n",
              "      <td>95.330002</td>\n",
              "    </tr>\n",
              "    <tr>\n",
              "      <th>2023-12-22</th>\n",
              "      <td>153.419998</td>\n",
              "      <td>33.430000</td>\n",
              "      <td>671.599976</td>\n",
              "      <td>91.019997</td>\n",
              "      <td>409.839996</td>\n",
              "      <td>58.320000</td>\n",
              "      <td>291.700012</td>\n",
              "      <td>374.579987</td>\n",
              "      <td>4.54</td>\n",
              "      <td>95.279999</td>\n",
              "    </tr>\n",
              "    <tr>\n",
              "      <th>2023-12-26</th>\n",
              "      <td>153.410004</td>\n",
              "      <td>33.860001</td>\n",
              "      <td>674.619995</td>\n",
              "      <td>90.949997</td>\n",
              "      <td>411.339996</td>\n",
              "      <td>58.560001</td>\n",
              "      <td>292.859985</td>\n",
              "      <td>374.660004</td>\n",
              "      <td>4.36</td>\n",
              "      <td>95.669998</td>\n",
              "    </tr>\n",
              "  </tbody>\n",
              "</table>\n",
              "</div>"
            ],
            "text/plain": [
              "                  AMZN        BAC        COST        DIS         DPZ  \\\n",
              "Date                                                                   \n",
              "2023-12-19  153.789993  33.509998  677.739990  93.930000  406.549988   \n",
              "2023-12-20  152.119995  32.980000  661.000000  91.269997  403.250000   \n",
              "2023-12-21  153.839996  33.200001  665.159973  92.019997  408.799988   \n",
              "2023-12-22  153.419998  33.430000  671.599976  91.019997  409.839996   \n",
              "2023-12-26  153.410004  33.860001  674.619995  90.949997  411.339996   \n",
              "\n",
              "                   KO         MCD        MSFT   NAT       SBUX  \n",
              "Date                                                            \n",
              "2023-12-19  58.830002  290.730011  373.260010  4.30  97.720001  \n",
              "2023-12-20  57.610001  288.989990  370.619995  4.31  94.709999  \n",
              "2023-12-21  57.990002  291.390015  373.540009  4.36  95.330002  \n",
              "2023-12-22  58.320000  291.700012  374.579987  4.54  95.279999  \n",
              "2023-12-26  58.560001  292.859985  374.660004  4.36  95.669998  "
            ]
          },
          "execution_count": 4,
          "metadata": {},
          "output_type": "execute_result"
        }
      ],
      "source": [
        "ohlc = yf.download(tickers, period=\"max\")\n",
        "prices = ohlc[\"Adj Close\"]\n",
        "prices.tail()"
      ]
    },
    {
      "cell_type": "code",
      "execution_count": 5,
      "metadata": {
        "colab": {
          "base_uri": "https://localhost:8080/"
        },
        "id": "WmtKlXfLAbNi",
        "outputId": "ea14863a-b8a0-4c19-9c85-bea9fbdf29bc"
      },
      "outputs": [
        {
          "name": "stdout",
          "output_type": "stream",
          "text": [
            "[*********************100%%**********************]  1 of 1 completed\n"
          ]
        },
        {
          "data": {
            "text/plain": [
              "Date\n",
              "1993-01-29    24.840687\n",
              "1993-02-01    25.017351\n",
              "1993-02-02    25.070364\n",
              "1993-02-03    25.335379\n",
              "1993-02-04    25.441387\n",
              "Name: Adj Close, dtype: float64"
            ]
          },
          "execution_count": 5,
          "metadata": {},
          "output_type": "execute_result"
        }
      ],
      "source": [
        "market_prices = yf.download(\"SPY\", period=\"max\")[\"Adj Close\"]\n",
        "market_prices.head()"
      ]
    },
    {
      "cell_type": "code",
      "execution_count": 6,
      "metadata": {
        "colab": {
          "base_uri": "https://localhost:8080/"
        },
        "id": "rZwXHHxxAbNi",
        "outputId": "dee319be-67e2-44e7-e576-96c2b934d139"
      },
      "outputs": [
        {
          "data": {
            "text/plain": [
              "{'MSFT': 2784570638336,\n",
              " 'AMZN': 1585339039744,\n",
              " 'NAT': 910350592,\n",
              " 'BAC': 267958910976,\n",
              " 'DPZ': 14347950080,\n",
              " 'DIS': 166467600384,\n",
              " 'KO': 253178888192,\n",
              " 'MCD': 212423655424,\n",
              " 'COST': 299347771392,\n",
              " 'SBUX': 108748087296}"
            ]
          },
          "execution_count": 6,
          "metadata": {},
          "output_type": "execute_result"
        }
      ],
      "source": [
        "mcaps = {}\n",
        "for t in tickers:\n",
        "    stock = yf.Ticker(t)\n",
        "    mcaps[t] = stock.info[\"marketCap\"]\n",
        "mcaps"
      ]
    },
    {
      "cell_type": "markdown",
      "metadata": {
        "id": "w6cnqTB8AbNi"
      },
      "source": [
        "## Constructing the prior"
      ]
    },
    {
      "cell_type": "code",
      "execution_count": 8,
      "metadata": {
        "colab": {
          "base_uri": "https://localhost:8080/",
          "height": 35
        },
        "id": "KMyL_d0mAbNj",
        "outputId": "83c8ff0b-6ac3-4c80-9bea-8f6216384238"
      },
      "outputs": [
        {
          "data": {
            "text/plain": [
              "'1.5.5'"
            ]
          },
          "execution_count": 8,
          "metadata": {},
          "output_type": "execute_result"
        }
      ],
      "source": [
        "import pypfopt\n",
        "pypfopt.__version__"
      ]
    },
    {
      "cell_type": "code",
      "execution_count": 9,
      "metadata": {
        "colab": {
          "base_uri": "https://localhost:8080/"
        },
        "id": "V35ccSUSAbNj",
        "outputId": "bdc6d9bc-33c2-47b6-ac60-c43a4cfed6b5"
      },
      "outputs": [
        {
          "data": {
            "text/plain": [
              "2.645919196103754"
            ]
          },
          "execution_count": 9,
          "metadata": {},
          "output_type": "execute_result"
        }
      ],
      "source": [
        "from pypfopt import black_litterman, risk_models\n",
        "from pypfopt import BlackLittermanModel, plotting\n",
        "\n",
        "S = risk_models.CovarianceShrinkage(prices).ledoit_wolf()\n",
        "delta = black_litterman.market_implied_risk_aversion(market_prices)\n",
        "delta"
      ]
    },
    {
      "cell_type": "code",
      "execution_count": 10,
      "metadata": {
        "colab": {
          "base_uri": "https://localhost:8080/",
          "height": 297
        },
        "id": "tgz3bOltAbNj",
        "outputId": "41740df8-87ca-45c7-b0ef-4af343ae3b0a"
      },
      "outputs": [
        {
          "data": {
            "image/png": "[encoded data removed]",
            "text/plain": [
              "<Figure size 640x480 with 2 Axes>"
            ]
          },
          "metadata": {},
          "output_type": "display_data"
        }
      ],
      "source": [
        "plotting.plot_covariance(S, plot_correlation=True);"
      ]
    },
    {
      "cell_type": "code",
      "execution_count": 11,
      "metadata": {
        "colab": {
          "base_uri": "https://localhost:8080/"
        },
        "id": "qknxazUhAbNk",
        "outputId": "eb6b5bdf-7a31-4c76-90e0-ca2a751126ee"
      },
      "outputs": [
        {
          "data": {
            "text/plain": [
              "AMZN    0.172972\n",
              "BAC     0.100880\n",
              "COST    0.080148\n",
              "DIS     0.092621\n",
              "DPZ     0.049561\n",
              "KO      0.063157\n",
              "MCD     0.067228\n",
              "MSFT    0.145606\n",
              "NAT     0.052229\n",
              "SBUX    0.080859\n",
              "dtype: float64"
            ]
          },
          "execution_count": 11,
          "metadata": {},
          "output_type": "execute_result"
        }
      ],
      "source": [
        "market_prior = black_litterman.market_implied_prior_returns(mcaps, delta, S)\n",
        "market_prior"
      ]
    },
    {
      "cell_type": "code",
      "execution_count": 12,
      "metadata": {
        "colab": {
          "base_uri": "https://localhost:8080/",
          "height": 320
        },
        "id": "9exlhi1BAbNk",
        "outputId": "a1292c4b-38b9-4c02-919d-b9cf33a4309e"
      },
      "outputs": [
        {
          "data": {
            "image/png": "[encoded data removed]",
            "text/plain": [
              "<Figure size 1000x500 with 1 Axes>"
            ]
          },
          "metadata": {},
          "output_type": "display_data"
        }
      ],
      "source": [
        "market_prior.plot.barh(figsize=(10,5));"
      ]
    },
    {
      "cell_type": "markdown",
      "metadata": {
        "id": "v1YzJTJFAbNl"
      },
      "source": [
        "## Views\n",
        "\n",
        "In the BL method, views are specified via the matrix P (picking matrix) and the vector Q. Q contains the magnitude of each view, while P maps the views to the assets they belong to. \n",
        "\n",
        "If you are providing **absolute views** (i.e a return estimate for each asset), you don't have to worry about P and Q, you can just pass your views as a dictionary."
      ]
    },
    {
      "cell_type": "code",
      "execution_count": 13,
      "metadata": {
        "id": "uTP2BVZIAbNl"
      },
      "outputs": [],
      "source": [
        "# You don't have to provide views on all the assets\n",
        "viewdict = {\n",
        "    \"AMZN\": 0.10,\n",
        "    \"BAC\": 0.30,\n",
        "    \"COST\": 0.05,\n",
        "    \"DIS\": 0.05,\n",
        "    \"DPZ\": 0.20,\n",
        "    \"KO\": -0.05,  # I think Coca-Cola will go down 5%\n",
        "    \"MCD\": 0.15,\n",
        "    \"MSFT\": 0.10,\n",
        "    \"NAT\": 0.50,  # but low confidence, which will be reflected later\n",
        "    \"SBUX\": 0.10\n",
        "}\n",
        "\n",
        "bl = BlackLittermanModel(S, pi=market_prior, absolute_views=viewdict)"
      ]
    },
    {
      "cell_type": "markdown",
      "metadata": {
        "id": "fA5PRsozAbNm"
      },
      "source": [
        "Black-Litterman also allows for relative views, e.g you think asset A will outperform asset B by 10%. If you'd like to incorporate these, you will have to build P and Q yourself. An explanation for this is given in the [docs](https://pyportfolioopt.readthedocs.io/en/latest/BlackLitterman.html#views)."
      ]
    },
    {
      "cell_type": "markdown",
      "metadata": {
        "id": "QIMKGZEoAbNm"
      },
      "source": [
        "## View confidences\n",
        "\n",
        "In this section, we provide two ways that you may wish to construct the uncertainty matrix. The first is known as Idzorek's method. It allows you to specify a vector/list of percentage confidences."
      ]
    },
    {
      "cell_type": "code",
      "execution_count": 14,
      "metadata": {
        "id": "Z0Pzoio1AbNm"
      },
      "outputs": [],
      "source": [
        "confidences = [\n",
        "    0.6,\n",
        "    0.4,\n",
        "    0.2,\n",
        "    0.5,\n",
        "    0.7, # confident in dominos\n",
        "    0.7, # confident KO will do poorly\n",
        "    0.7, \n",
        "    0.5,\n",
        "    0.1,\n",
        "    0.4\n",
        "]"
      ]
    },
    {
      "cell_type": "code",
      "execution_count": 15,
      "metadata": {
        "id": "EaRmLt4IAbNm"
      },
      "outputs": [],
      "source": [
        "bl = BlackLittermanModel(S, pi=market_prior, absolute_views=viewdict, omega=\"idzorek\", view_confidences=confidences)"
      ]
    },
    {
      "cell_type": "code",
      "execution_count": 16,
      "metadata": {
        "colab": {
          "base_uri": "https://localhost:8080/",
          "height": 428
        },
        "id": "fo6SKTGAAbNn",
        "outputId": "49517772-73fa-405b-a164-8a39c1456faf"
      },
      "outputs": [
        {
          "data": {
            "image/png": "[encoded data removed]",
            "text/plain": [
              "<Figure size 700x700 with 1 Axes>"
            ]
          },
          "metadata": {},
          "output_type": "display_data"
        }
      ],
      "source": [
        "fig, ax = plt.subplots(figsize=(7,7))\n",
        "im = ax.imshow(bl.omega)\n",
        "\n",
        "# We want to show all ticks...\n",
        "ax.set_xticks(np.arange(len(bl.tickers)))\n",
        "ax.set_yticks(np.arange(len(bl.tickers)))\n",
        "\n",
        "ax.set_xticklabels(bl.tickers)\n",
        "ax.set_yticklabels(bl.tickers)\n",
        "plt.show()"
      ]
    },
    {
      "cell_type": "code",
      "execution_count": 17,
      "metadata": {
        "colab": {
          "base_uri": "https://localhost:8080/"
        },
        "id": "58aBtbhuAbNn",
        "outputId": "31bcfa00-46ba-4600-b626-c7cf15a352b8"
      },
      "outputs": [
        {
          "data": {
            "text/plain": [
              "array([0.00459815, 0.00885007, 0.0120955 , 0.00496576, 0.00086098,\n",
              "       0.00113928, 0.00169892, 0.00346853, 0.0413603 , 0.00540064])"
            ]
          },
          "execution_count": 17,
          "metadata": {},
          "output_type": "execute_result"
        }
      ],
      "source": [
        "np.diag(bl.omega)"
      ]
    },
    {
      "cell_type": "markdown",
      "metadata": {
        "id": "lUGduOmsAbNn"
      },
      "source": [
        "Note how NAT, which we gave the lowest confidence, also has the highest uncertainty.\n",
        "\n",
        "Instead of inputting confidences, we can calculate the uncertainty matrix directly by specifying 1 standard deviation confidence intervals, i.e bounds which we think will contain the true return 68% of the time. This may be easier than coming up with somewhat arbitrary percentage confidences"
      ]
    },
    {
      "cell_type": "code",
      "execution_count": 18,
      "metadata": {
        "id": "QQtnWs9xAbNn"
      },
      "outputs": [],
      "source": [
        "intervals = [\n",
        "    (0, 0.25),\n",
        "    (0.1, 0.4),\n",
        "    (-0.1, 0.15),\n",
        "    (-0.05, 0.1),\n",
        "    (0.15, 0.25),\n",
        "    (-0.1, 0),\n",
        "    (0.1, 0.2),\n",
        "    (0.08, 0.12),\n",
        "    (0.1, 0.9),\n",
        "    (0, 0.3)\n",
        "]"
      ]
    },
    {
      "cell_type": "code",
      "execution_count": 19,
      "metadata": {
        "colab": {
          "base_uri": "https://localhost:8080/"
        },
        "id": "avW4ld8bAbNo",
        "outputId": "540d7109-e20f-4eb4-e32d-fb16ae670a5b"
      },
      "outputs": [
        {
          "name": "stdout",
          "output_type": "stream",
          "text": [
            "[0.015625, 0.022500000000000006, 0.015625, 0.0056250000000000015, 0.0025000000000000005, 0.0025000000000000005, 0.0025000000000000005, 0.00039999999999999986, 0.16000000000000003, 0.0225]\n"
          ]
        }
      ],
      "source": [
        "variances = []\n",
        "for lb, ub in intervals:\n",
        "    sigma = (ub - lb)/2\n",
        "    variances.append(sigma ** 2)\n",
        "\n",
        "print(variances)\n",
        "omega = np.diag(variances)"
      ]
    },
    {
      "cell_type": "markdown",
      "metadata": {
        "id": "VlVq9sICAbNo"
      },
      "source": [
        "## Posterior estimates\n",
        "\n",
        "Given the inputs, we can compute a posterior estimate of returns\n"
      ]
    },
    {
      "cell_type": "code",
      "execution_count": 20,
      "metadata": {
        "id": "478dHIDHAbNo"
      },
      "outputs": [],
      "source": [
        "# We are using the shortcut to automatically compute market-implied prior\n",
        "bl = BlackLittermanModel(S, pi=\"market\", market_caps=mcaps, risk_aversion=delta,\n",
        "                        absolute_views=viewdict, omega=omega)"
      ]
    },
    {
      "cell_type": "code",
      "execution_count": 21,
      "metadata": {
        "colab": {
          "base_uri": "https://localhost:8080/"
        },
        "id": "A9VSO7xAAbNo",
        "outputId": "c501cc36-8719-4826-d2b9-c138ab2f46c5"
      },
      "outputs": [
        {
          "data": {
            "text/plain": [
              "AMZN    0.148646\n",
              "BAC     0.129893\n",
              "COST    0.062752\n",
              "DIS     0.070663\n",
              "DPZ     0.104680\n",
              "KO      0.007376\n",
              "MCD     0.102948\n",
              "MSFT    0.104484\n",
              "NAT     0.061376\n",
              "SBUX    0.082140\n",
              "dtype: float64"
            ]
          },
          "execution_count": 21,
          "metadata": {},
          "output_type": "execute_result"
        }
      ],
      "source": [
        "# Posterior estimate of returns\n",
        "ret_bl = bl.bl_returns()\n",
        "ret_bl"
      ]
    },
    {
      "cell_type": "markdown",
      "metadata": {
        "id": "eRKmlKABAbNo"
      },
      "source": [
        "We can visualise how this compares to the prior and our views:"
      ]
    },
    {
      "cell_type": "code",
      "execution_count": 22,
      "metadata": {
        "colab": {
          "base_uri": "https://localhost:8080/",
          "height": 363
        },
        "id": "KHfvi6KvAbNp",
        "outputId": "ee876b7b-a24c-4dea-c344-a1c8a5c6c7d4"
      },
      "outputs": [
        {
          "data": {
            "text/html": [
              "<div>\n",
              "<style scoped>\n",
              "    .dataframe tbody tr th:only-of-type {\n",
              "        vertical-align: middle;\n",
              "    }\n",
              "\n",
              "    .dataframe tbody tr th {\n",
              "        vertical-align: top;\n",
              "    }\n",
              "\n",
              "    .dataframe thead th {\n",
              "        text-align: right;\n",
              "    }\n",
              "</style>\n",
              "<table border=\"1\" class=\"dataframe\">\n",
              "  <thead>\n",
              "    <tr style=\"text-align: right;\">\n",
              "      <th></th>\n",
              "      <th>Prior</th>\n",
              "      <th>Posterior</th>\n",
              "      <th>Views</th>\n",
              "    </tr>\n",
              "  </thead>\n",
              "  <tbody>\n",
              "    <tr>\n",
              "      <th>AMZN</th>\n",
              "      <td>0.172972</td>\n",
              "      <td>0.148646</td>\n",
              "      <td>0.10</td>\n",
              "    </tr>\n",
              "    <tr>\n",
              "      <th>BAC</th>\n",
              "      <td>0.100880</td>\n",
              "      <td>0.129893</td>\n",
              "      <td>0.30</td>\n",
              "    </tr>\n",
              "    <tr>\n",
              "      <th>COST</th>\n",
              "      <td>0.080148</td>\n",
              "      <td>0.062752</td>\n",
              "      <td>0.05</td>\n",
              "    </tr>\n",
              "    <tr>\n",
              "      <th>DIS</th>\n",
              "      <td>0.092621</td>\n",
              "      <td>0.070663</td>\n",
              "      <td>0.05</td>\n",
              "    </tr>\n",
              "    <tr>\n",
              "      <th>DPZ</th>\n",
              "      <td>0.049561</td>\n",
              "      <td>0.104680</td>\n",
              "      <td>0.20</td>\n",
              "    </tr>\n",
              "    <tr>\n",
              "      <th>KO</th>\n",
              "      <td>0.063157</td>\n",
              "      <td>0.007376</td>\n",
              "      <td>-0.05</td>\n",
              "    </tr>\n",
              "    <tr>\n",
              "      <th>MCD</th>\n",
              "      <td>0.067228</td>\n",
              "      <td>0.102948</td>\n",
              "      <td>0.15</td>\n",
              "    </tr>\n",
              "    <tr>\n",
              "      <th>MSFT</th>\n",
              "      <td>0.145606</td>\n",
              "      <td>0.104484</td>\n",
              "      <td>0.10</td>\n",
              "    </tr>\n",
              "    <tr>\n",
              "      <th>NAT</th>\n",
              "      <td>0.052229</td>\n",
              "      <td>0.061376</td>\n",
              "      <td>0.50</td>\n",
              "    </tr>\n",
              "    <tr>\n",
              "      <th>SBUX</th>\n",
              "      <td>0.080859</td>\n",
              "      <td>0.082140</td>\n",
              "      <td>0.10</td>\n",
              "    </tr>\n",
              "  </tbody>\n",
              "</table>\n",
              "</div>"
            ],
            "text/plain": [
              "         Prior  Posterior  Views\n",
              "AMZN  0.172972   0.148646   0.10\n",
              "BAC   0.100880   0.129893   0.30\n",
              "COST  0.080148   0.062752   0.05\n",
              "DIS   0.092621   0.070663   0.05\n",
              "DPZ   0.049561   0.104680   0.20\n",
              "KO    0.063157   0.007376  -0.05\n",
              "MCD   0.067228   0.102948   0.15\n",
              "MSFT  0.145606   0.104484   0.10\n",
              "NAT   0.052229   0.061376   0.50\n",
              "SBUX  0.080859   0.082140   0.10"
            ]
          },
          "execution_count": 22,
          "metadata": {},
          "output_type": "execute_result"
        }
      ],
      "source": [
        "rets_df = pd.DataFrame([market_prior, ret_bl, pd.Series(viewdict)], \n",
        "             index=[\"Prior\", \"Posterior\", \"Views\"]).T\n",
        "rets_df"
      ]
    },
    {
      "cell_type": "code",
      "execution_count": 23,
      "metadata": {
        "colab": {
          "base_uri": "https://localhost:8080/",
          "height": 503
        },
        "id": "n55wKWFuAbNp",
        "outputId": "9445d68a-279e-4cfe-85a6-0609e411b03c"
      },
      "outputs": [
        {
          "data": {
            "image/png": "[encoded data removed]",
            "text/plain": [
              "<Figure size 1200x800 with 1 Axes>"
            ]
          },
          "metadata": {},
          "output_type": "display_data"
        }
      ],
      "source": [
        "rets_df.plot.bar(figsize=(12,8));"
      ]
    },
    {
      "cell_type": "markdown",
      "metadata": {
        "id": "fuizxt0NAbNp"
      },
      "source": [
        "Notice that the posterior is often between the prior and the views. This supports the fact that the BL method is essentially a Bayesian weighted-average of the prior and views, where the weight is determined by the confidence.\n",
        "\n",
        "A similar but less intuitive procedure can be used to produce the posterior covariance estimate:"
      ]
    },
    {
      "cell_type": "code",
      "execution_count": 24,
      "metadata": {
        "colab": {
          "base_uri": "https://localhost:8080/",
          "height": 297
        },
        "id": "i6S1l2-aAbNp",
        "outputId": "411f2876-67fb-4d2d-8f88-4b63463bf10f"
      },
      "outputs": [
        {
          "data": {
            "image/png": "[encoded data removed]",
            "text/plain": [
              "<Figure size 640x480 with 2 Axes>"
            ]
          },
          "metadata": {},
          "output_type": "display_data"
        }
      ],
      "source": [
        "S_bl = bl.bl_cov()\n",
        "plotting.plot_covariance(S_bl);"
      ]
    },
    {
      "cell_type": "markdown",
      "metadata": {
        "id": "YC9fNRAbAbNp"
      },
      "source": [
        "## Portfolio allocation\n",
        "\n",
        "Now that we have constructed our Black-Litterman posterior estimate, we can proceed to use any of the optimizers discussed in previous recipes."
      ]
    },
    {
      "cell_type": "code",
      "execution_count": 25,
      "metadata": {
        "id": "hDS0vIUCAbNp"
      },
      "outputs": [],
      "source": [
        "from pypfopt import EfficientFrontier, objective_functions"
      ]
    },
    {
      "cell_type": "code",
      "execution_count": 26,
      "metadata": {
        "colab": {
          "base_uri": "https://localhost:8080/"
        },
        "id": "qylII3-oAbNp",
        "outputId": "f81f870a-3181-42ba-afcf-321674ddf5d7"
      },
      "outputs": [
        {
          "name": "stderr",
          "output_type": "stream",
          "text": [
            "/home/skymeta/anaconda3/envs/finlab/lib/python3.8/site-packages/pypfopt/efficient_frontier/efficient_frontier.py:259: UserWarning: max_sharpe transforms the optimization problem so additional objectives may not work as expected.\n",
            "  warnings.warn(\n"
          ]
        },
        {
          "data": {
            "text/plain": [
              "OrderedDict([('AMZN', 0.18861),\n",
              "             ('BAC', 0.15864),\n",
              "             ('COST', 0.05745),\n",
              "             ('DIS', 0.06281),\n",
              "             ('DPZ', 0.13722),\n",
              "             ('KO', 0.0),\n",
              "             ('MCD', 0.12648),\n",
              "             ('MSFT', 0.12508),\n",
              "             ('NAT', 0.05679),\n",
              "             ('SBUX', 0.08693)])"
            ]
          },
          "execution_count": 26,
          "metadata": {},
          "output_type": "execute_result"
        }
      ],
      "source": [
        "ef = EfficientFrontier(ret_bl, S_bl)\n",
        "ef.add_objective(objective_functions.L2_reg)\n",
        "ef.max_sharpe()\n",
        "weights = ef.clean_weights()\n",
        "weights"
      ]
    },
    {
      "cell_type": "code",
      "execution_count": 27,
      "metadata": {
        "colab": {
          "base_uri": "https://localhost:8080/",
          "height": 575
        },
        "id": "9_pWobQoAbNq",
        "outputId": "e50c07ee-7274-4936-8f0f-e347309013b9"
      },
      "outputs": [
        {
          "data": {
            "image/png": "[encoded data removed]",
            "text/plain": [
              "<Figure size 1000x1000 with 1 Axes>"
            ]
          },
          "metadata": {},
          "output_type": "display_data"
        }
      ],
      "source": [
        "pd.Series(weights).plot.pie(figsize=(10,10));"
      ]
    },
    {
      "cell_type": "code",
      "execution_count": 28,
      "metadata": {
        "colab": {
          "base_uri": "https://localhost:8080/"
        },
        "id": "8YHugSK8AbNq",
        "outputId": "095c7b24-0f63-4c6a-a80b-91247548486b"
      },
      "outputs": [
        {
          "name": "stdout",
          "output_type": "stream",
          "text": [
            "Leftover: $754.02\n"
          ]
        },
        {
          "name": "stderr",
          "output_type": "stream",
          "text": [
            "/home/skymeta/anaconda3/envs/finlab/lib/python3.8/site-packages/cvxpy/problems/problem.py:1403: UserWarning: Solution may be inaccurate. Try another solver, adjusting the solver settings, or solve with verbose=True for more information.\n",
            "  warnings.warn(\n"
          ]
        },
        {
          "data": {
            "text/plain": [
              "{'BAC': 105,\n",
              " 'COST': 2,\n",
              " 'DIS': 17,\n",
              " 'DPZ': 7,\n",
              " 'KO': 8,\n",
              " 'MCD': 9,\n",
              " 'MSFT': 7,\n",
              " 'NAT': 500,\n",
              " 'SBUX': 21}"
            ]
          },
          "execution_count": 28,
          "metadata": {},
          "output_type": "execute_result"
        }
      ],
      "source": [
        "from pypfopt import DiscreteAllocation\n",
        "\n",
        "da = DiscreteAllocation(weights, prices.iloc[-1], total_portfolio_value=20000)\n",
        "alloc, leftover = da.lp_portfolio()\n",
        "print(f\"Leftover: ${leftover:.2f}\")\n",
        "alloc"
      ]
    },
    {
      "cell_type": "code",
      "execution_count": 27,
      "metadata": {
        "id": "xg87r54tAbNq"
      },
      "outputs": [],
      "source": []
    }
  ],
  "metadata": {
    "colab": {
      "collapsed_sections": [],
      "name": "4-Black-Litterman-Allocation.ipynb",
      "provenance": []
    },
    "kernelspec": {
      "display_name": "Python 3",
      "name": "python3"
    },
    "language_info": {
      "codemirror_mode": {
        "name": "ipython",
        "version": 3
      },
      "file_extension": ".py",
      "mimetype": "text/x-python",
      "name": "python",
      "nbconvert_exporter": "python",
      "pygments_lexer": "ipython3",
      "version": "3.8.16"
    }
  },
  "nbformat": 4,
  "nbformat_minor": 0
}
